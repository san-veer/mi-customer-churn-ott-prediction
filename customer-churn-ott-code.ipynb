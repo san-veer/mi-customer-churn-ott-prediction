{
 "cells": [
  {
   "cell_type": "code",
   "execution_count": 1,
   "id": "12cdcf79",
   "metadata": {
    "execution": {
     "iopub.execute_input": "2023-04-27T13:09:42.906475Z",
     "iopub.status.busy": "2023-04-27T13:09:42.905975Z",
     "iopub.status.idle": "2023-04-27T13:09:44.822156Z",
     "shell.execute_reply": "2023-04-27T13:09:44.820445Z"
    },
    "id": "yrFteD4X694n",
    "papermill": {
     "duration": 1.941352,
     "end_time": "2023-04-27T13:09:44.825756",
     "exception": false,
     "start_time": "2023-04-27T13:09:42.884404",
     "status": "completed"
    },
    "tags": []
   },
   "outputs": [],
   "source": [
    "# for numerical computing\n",
    "import numpy as np\n",
    "\n",
    "# for dataframes\n",
    "import pandas as pd\n",
    "\n",
    "# for easier visualization\n",
    "import seaborn as sns\n",
    "\n",
    "# for visualization and to display plots\n",
    "from matplotlib import pyplot as plt\n",
    "\n",
    "# import color maps\n",
    "from matplotlib.colors import ListedColormap\n",
    "\n",
    "# Ignore Warnings\n",
    "import warnings\n",
    "warnings.filterwarnings(\"ignore\")\n",
    "\n",
    "from math import sqrt\n",
    "\n",
    "# to split train and test set\n",
    "from sklearn.model_selection import train_test_split\n",
    "\n",
    "#importing the required ML libraries\n",
    "from sklearn.linear_model import LogisticRegression\n",
    "from sklearn.tree import DecisionTreeClassifier\n",
    "from sklearn.ensemble import RandomForestClassifier, GradientBoostingClassifier\n",
    "from sklearn.model_selection import train_test_split, cross_val_score, GridSearchCV\n",
    "from sklearn.metrics import accuracy_score\n",
    "from sklearn.metrics import classification_report\n",
    "import sklearn.metrics as metrics"
   ]
  },
  {
   "cell_type": "code",
   "execution_count": 2,
   "id": "3368adc2",
   "metadata": {
    "execution": {
     "iopub.execute_input": "2023-04-27T13:09:44.865078Z",
     "iopub.status.busy": "2023-04-27T13:09:44.864498Z",
     "iopub.status.idle": "2023-04-27T13:09:44.877317Z",
     "shell.execute_reply": "2023-04-27T13:09:44.875591Z"
    },
    "papermill": {
     "duration": 0.03617,
     "end_time": "2023-04-27T13:09:44.881343",
     "exception": false,
     "start_time": "2023-04-27T13:09:44.845173",
     "status": "completed"
    },
    "tags": []
   },
   "outputs": [
    {
     "name": "stdout",
     "output_type": "stream",
     "text": [
      "/kaggle/input/customer-churn-ott/customer_data.csv\n"
     ]
    }
   ],
   "source": [
    "# This Python 3 environment comes with many helpful analytics libraries installed\n",
    "# It is defined by the kaggle/python Docker image: https://github.com/kaggle/docker-python\n",
    "# For example, here's several helpful packages to load\n",
    "\n",
    "import numpy as np # linear algebra\n",
    "import pandas as pd # data processing, CSV file I/O (e.g. pd.read_csv)\n",
    "\n",
    "# Input data files are available in the read-only \"../input/\" directory\n",
    "# For example, running this (by clicking run or pressing Shift+Enter) will list all files under the input directory\n",
    "\n",
    "import os\n",
    "for dirname, _, filenames in os.walk('/kaggle/input'):\n",
    "    for filename in filenames:\n",
    "        print(os.path.join(dirname, filename))\n",
    "\n",
    "# You can write up to 20GB to the current directory (/kaggle/working/) that gets preserved as output when you create a version using \"Save & Run All\" \n",
    "# You can also write temporary files to /kaggle/temp/, but they won't be saved outside of the current session"
   ]
  },
  {
   "cell_type": "code",
   "execution_count": 3,
   "id": "ee537495",
   "metadata": {
    "execution": {
     "iopub.execute_input": "2023-04-27T13:09:44.921517Z",
     "iopub.status.busy": "2023-04-27T13:09:44.920224Z",
     "iopub.status.idle": "2023-04-27T13:09:44.983771Z",
     "shell.execute_reply": "2023-04-27T13:09:44.981894Z"
    },
    "id": "z5ZcN_GW7AXl",
    "outputId": "e4e43fb5-197d-41dc-c8bf-5cc7eb7c4508",
    "papermill": {
     "duration": 0.086029,
     "end_time": "2023-04-27T13:09:44.987057",
     "exception": false,
     "start_time": "2023-04-27T13:09:44.901028",
     "status": "completed"
    },
    "tags": []
   },
   "outputs": [
    {
     "data": {
      "text/html": [
       "<div>\n",
       "<style scoped>\n",
       "    .dataframe tbody tr th:only-of-type {\n",
       "        vertical-align: middle;\n",
       "    }\n",
       "\n",
       "    .dataframe tbody tr th {\n",
       "        vertical-align: top;\n",
       "    }\n",
       "\n",
       "    .dataframe thead th {\n",
       "        text-align: right;\n",
       "    }\n",
       "</style>\n",
       "<table border=\"1\" class=\"dataframe\">\n",
       "  <thead>\n",
       "    <tr style=\"text-align: right;\">\n",
       "      <th></th>\n",
       "      <th>year</th>\n",
       "      <th>customer_id</th>\n",
       "      <th>phone_no</th>\n",
       "      <th>gender</th>\n",
       "      <th>age</th>\n",
       "      <th>no_of_days_subscribed</th>\n",
       "      <th>multi_screen</th>\n",
       "      <th>mail_subscribed</th>\n",
       "      <th>weekly_mins_watched</th>\n",
       "      <th>minimum_daily_mins</th>\n",
       "      <th>maximum_daily_mins</th>\n",
       "      <th>weekly_max_night_mins</th>\n",
       "      <th>videos_watched</th>\n",
       "      <th>maximum_days_inactive</th>\n",
       "      <th>customer_support_calls</th>\n",
       "      <th>churn</th>\n",
       "    </tr>\n",
       "  </thead>\n",
       "  <tbody>\n",
       "    <tr>\n",
       "      <th>0</th>\n",
       "      <td>2015</td>\n",
       "      <td>100198</td>\n",
       "      <td>409-8743</td>\n",
       "      <td>Female</td>\n",
       "      <td>36</td>\n",
       "      <td>62</td>\n",
       "      <td>no</td>\n",
       "      <td>no</td>\n",
       "      <td>148.35</td>\n",
       "      <td>12.2</td>\n",
       "      <td>16.81</td>\n",
       "      <td>82</td>\n",
       "      <td>1</td>\n",
       "      <td>4.0</td>\n",
       "      <td>1</td>\n",
       "      <td>0.0</td>\n",
       "    </tr>\n",
       "    <tr>\n",
       "      <th>1</th>\n",
       "      <td>2015</td>\n",
       "      <td>100643</td>\n",
       "      <td>340-5930</td>\n",
       "      <td>Female</td>\n",
       "      <td>39</td>\n",
       "      <td>149</td>\n",
       "      <td>no</td>\n",
       "      <td>no</td>\n",
       "      <td>294.45</td>\n",
       "      <td>7.7</td>\n",
       "      <td>33.37</td>\n",
       "      <td>87</td>\n",
       "      <td>3</td>\n",
       "      <td>3.0</td>\n",
       "      <td>2</td>\n",
       "      <td>0.0</td>\n",
       "    </tr>\n",
       "    <tr>\n",
       "      <th>2</th>\n",
       "      <td>2015</td>\n",
       "      <td>100756</td>\n",
       "      <td>372-3750</td>\n",
       "      <td>Female</td>\n",
       "      <td>65</td>\n",
       "      <td>126</td>\n",
       "      <td>no</td>\n",
       "      <td>no</td>\n",
       "      <td>87.30</td>\n",
       "      <td>11.9</td>\n",
       "      <td>9.89</td>\n",
       "      <td>91</td>\n",
       "      <td>1</td>\n",
       "      <td>4.0</td>\n",
       "      <td>5</td>\n",
       "      <td>1.0</td>\n",
       "    </tr>\n",
       "    <tr>\n",
       "      <th>3</th>\n",
       "      <td>2015</td>\n",
       "      <td>101595</td>\n",
       "      <td>331-4902</td>\n",
       "      <td>Female</td>\n",
       "      <td>24</td>\n",
       "      <td>131</td>\n",
       "      <td>no</td>\n",
       "      <td>yes</td>\n",
       "      <td>321.30</td>\n",
       "      <td>9.5</td>\n",
       "      <td>36.41</td>\n",
       "      <td>102</td>\n",
       "      <td>4</td>\n",
       "      <td>3.0</td>\n",
       "      <td>3</td>\n",
       "      <td>0.0</td>\n",
       "    </tr>\n",
       "    <tr>\n",
       "      <th>4</th>\n",
       "      <td>2015</td>\n",
       "      <td>101653</td>\n",
       "      <td>351-8398</td>\n",
       "      <td>Female</td>\n",
       "      <td>40</td>\n",
       "      <td>191</td>\n",
       "      <td>no</td>\n",
       "      <td>no</td>\n",
       "      <td>243.00</td>\n",
       "      <td>10.9</td>\n",
       "      <td>27.54</td>\n",
       "      <td>83</td>\n",
       "      <td>7</td>\n",
       "      <td>3.0</td>\n",
       "      <td>1</td>\n",
       "      <td>0.0</td>\n",
       "    </tr>\n",
       "  </tbody>\n",
       "</table>\n",
       "</div>"
      ],
      "text/plain": [
       "   year  customer_id  phone_no  gender  age  no_of_days_subscribed  \\\n",
       "0  2015       100198  409-8743  Female   36                     62   \n",
       "1  2015       100643  340-5930  Female   39                    149   \n",
       "2  2015       100756  372-3750  Female   65                    126   \n",
       "3  2015       101595  331-4902  Female   24                    131   \n",
       "4  2015       101653  351-8398  Female   40                    191   \n",
       "\n",
       "  multi_screen mail_subscribed  weekly_mins_watched  minimum_daily_mins  \\\n",
       "0           no              no               148.35                12.2   \n",
       "1           no              no               294.45                 7.7   \n",
       "2           no              no                87.30                11.9   \n",
       "3           no             yes               321.30                 9.5   \n",
       "4           no              no               243.00                10.9   \n",
       "\n",
       "   maximum_daily_mins  weekly_max_night_mins  videos_watched  \\\n",
       "0               16.81                     82               1   \n",
       "1               33.37                     87               3   \n",
       "2                9.89                     91               1   \n",
       "3               36.41                    102               4   \n",
       "4               27.54                     83               7   \n",
       "\n",
       "   maximum_days_inactive  customer_support_calls  churn  \n",
       "0                    4.0                       1    0.0  \n",
       "1                    3.0                       2    0.0  \n",
       "2                    4.0                       5    1.0  \n",
       "3                    3.0                       3    0.0  \n",
       "4                    3.0                       1    0.0  "
      ]
     },
     "execution_count": 3,
     "metadata": {},
     "output_type": "execute_result"
    }
   ],
   "source": [
    "df = pd.read_csv('/kaggle/input/customer-churn-ott/customer_data.csv')\n",
    "df.head()"
   ]
  },
  {
   "cell_type": "code",
   "execution_count": 4,
   "id": "df0bf8af",
   "metadata": {
    "execution": {
     "iopub.execute_input": "2023-04-27T13:09:45.028309Z",
     "iopub.status.busy": "2023-04-27T13:09:45.027747Z",
     "iopub.status.idle": "2023-04-27T13:09:45.048902Z",
     "shell.execute_reply": "2023-04-27T13:09:45.046836Z"
    },
    "id": "wLIAcoSi7CxN",
    "outputId": "29e2815f-d2e7-4cb6-e04a-9d1bf22c8ea8",
    "papermill": {
     "duration": 0.046042,
     "end_time": "2023-04-27T13:09:45.052537",
     "exception": false,
     "start_time": "2023-04-27T13:09:45.006495",
     "status": "completed"
    },
    "tags": []
   },
   "outputs": [
    {
     "data": {
      "text/plain": [
       "year                        int64\n",
       "phone_no                   object\n",
       "gender                     object\n",
       "age                         int64\n",
       "no_of_days_subscribed       int64\n",
       "multi_screen               object\n",
       "mail_subscribed            object\n",
       "weekly_mins_watched       float64\n",
       "minimum_daily_mins        float64\n",
       "maximum_daily_mins        float64\n",
       "weekly_max_night_mins       int64\n",
       "videos_watched              int64\n",
       "maximum_days_inactive     float64\n",
       "customer_support_calls      int64\n",
       "churn                     float64\n",
       "dtype: object"
      ]
     },
     "execution_count": 4,
     "metadata": {},
     "output_type": "execute_result"
    }
   ],
   "source": [
    "df.drop('customer_id', axis='columns', inplace=True)\n",
    "df.dtypes"
   ]
  },
  {
   "cell_type": "code",
   "execution_count": 5,
   "id": "ef911af5",
   "metadata": {
    "execution": {
     "iopub.execute_input": "2023-04-27T13:09:45.094163Z",
     "iopub.status.busy": "2023-04-27T13:09:45.093487Z",
     "iopub.status.idle": "2023-04-27T13:09:45.104947Z",
     "shell.execute_reply": "2023-04-27T13:09:45.102719Z"
    },
    "id": "iPvs7nJH7DL8",
    "papermill": {
     "duration": 0.035976,
     "end_time": "2023-04-27T13:09:45.108088",
     "exception": false,
     "start_time": "2023-04-27T13:09:45.072112",
     "status": "completed"
    },
    "tags": []
   },
   "outputs": [],
   "source": [
    "df.drop('year', axis='columns', inplace=True)"
   ]
  },
  {
   "cell_type": "code",
   "execution_count": 6,
   "id": "74fa9a04",
   "metadata": {
    "execution": {
     "iopub.execute_input": "2023-04-27T13:09:45.150087Z",
     "iopub.status.busy": "2023-04-27T13:09:45.148677Z",
     "iopub.status.idle": "2023-04-27T13:09:45.187282Z",
     "shell.execute_reply": "2023-04-27T13:09:45.185208Z"
    },
    "id": "wAVRimqV7HAi",
    "outputId": "bcc8c163-edc6-4b0d-a104-88ae436ebd6f",
    "papermill": {
     "duration": 0.063652,
     "end_time": "2023-04-27T13:09:45.191362",
     "exception": false,
     "start_time": "2023-04-27T13:09:45.127710",
     "status": "completed"
    },
    "tags": []
   },
   "outputs": [
    {
     "name": "stdout",
     "output_type": "stream",
     "text": [
      "<class 'pandas.core.frame.DataFrame'>\n",
      "RangeIndex: 2000 entries, 0 to 1999\n",
      "Data columns (total 14 columns):\n",
      " #   Column                  Non-Null Count  Dtype  \n",
      "---  ------                  --------------  -----  \n",
      " 0   phone_no                2000 non-null   object \n",
      " 1   gender                  1976 non-null   object \n",
      " 2   age                     2000 non-null   int64  \n",
      " 3   no_of_days_subscribed   2000 non-null   int64  \n",
      " 4   multi_screen            2000 non-null   object \n",
      " 5   mail_subscribed         2000 non-null   object \n",
      " 6   weekly_mins_watched     2000 non-null   float64\n",
      " 7   minimum_daily_mins      2000 non-null   float64\n",
      " 8   maximum_daily_mins      2000 non-null   float64\n",
      " 9   weekly_max_night_mins   2000 non-null   int64  \n",
      " 10  videos_watched          2000 non-null   int64  \n",
      " 11  maximum_days_inactive   1972 non-null   float64\n",
      " 12  customer_support_calls  2000 non-null   int64  \n",
      " 13  churn                   1965 non-null   float64\n",
      "dtypes: float64(5), int64(5), object(4)\n",
      "memory usage: 218.9+ KB\n"
     ]
    }
   ],
   "source": [
    "df.info()"
   ]
  },
  {
   "cell_type": "code",
   "execution_count": 7,
   "id": "527c9d84",
   "metadata": {
    "execution": {
     "iopub.execute_input": "2023-04-27T13:09:45.231594Z",
     "iopub.status.busy": "2023-04-27T13:09:45.231043Z",
     "iopub.status.idle": "2023-04-27T13:09:45.240700Z",
     "shell.execute_reply": "2023-04-27T13:09:45.238489Z"
    },
    "id": "I16RgYpm7Hpu",
    "outputId": "24236e78-6e5f-46f4-825e-7eb8829c7db4",
    "papermill": {
     "duration": 0.033517,
     "end_time": "2023-04-27T13:09:45.243563",
     "exception": false,
     "start_time": "2023-04-27T13:09:45.210046",
     "status": "completed"
    },
    "tags": []
   },
   "outputs": [
    {
     "data": {
      "text/plain": [
       "Index(['phone_no', 'gender', 'age', 'no_of_days_subscribed', 'multi_screen',\n",
       "       'mail_subscribed', 'weekly_mins_watched', 'minimum_daily_mins',\n",
       "       'maximum_daily_mins', 'weekly_max_night_mins', 'videos_watched',\n",
       "       'maximum_days_inactive', 'customer_support_calls', 'churn'],\n",
       "      dtype='object')"
      ]
     },
     "execution_count": 7,
     "metadata": {},
     "output_type": "execute_result"
    }
   ],
   "source": [
    "#printing out a list of all the columns in our training dataset\n",
    "df.columns"
   ]
  },
  {
   "cell_type": "markdown",
   "id": "e1ceb5e7",
   "metadata": {
    "id": "W5gS1Nzh7N_B",
    "papermill": {
     "duration": 0.0186,
     "end_time": "2023-04-27T13:09:45.281159",
     "exception": false,
     "start_time": "2023-04-27T13:09:45.262559",
     "status": "completed"
    },
    "tags": []
   },
   "source": [
    "Types of features :\n",
    "\n",
    "1) Categorical : gender, multi_screen, mail_subscribed, churn\n",
    "2) Continuous : age, no_of_days_subscribed, weekly_mins_watched, minimum_daily_mins, maximum_daily_mins, weekly_max_night_mins, videos_watched, maximum_days_inactive, customer_support_calls\n",
    "3) Alphanumeric: phone_no"
   ]
  },
  {
   "cell_type": "code",
   "execution_count": 8,
   "id": "af3b6eae",
   "metadata": {
    "execution": {
     "iopub.execute_input": "2023-04-27T13:09:45.322902Z",
     "iopub.status.busy": "2023-04-27T13:09:45.322327Z",
     "iopub.status.idle": "2023-04-27T13:09:45.330809Z",
     "shell.execute_reply": "2023-04-27T13:09:45.329223Z"
    },
    "id": "6KXXfDRl7H5y",
    "papermill": {
     "duration": 0.033753,
     "end_time": "2023-04-27T13:09:45.334272",
     "exception": false,
     "start_time": "2023-04-27T13:09:45.300519",
     "status": "completed"
    },
    "tags": []
   },
   "outputs": [],
   "source": [
    "df.drop('phone_no', axis='columns', inplace=True)"
   ]
  },
  {
   "cell_type": "code",
   "execution_count": 9,
   "id": "290db67d",
   "metadata": {
    "execution": {
     "iopub.execute_input": "2023-04-27T13:09:45.377896Z",
     "iopub.status.busy": "2023-04-27T13:09:45.376784Z",
     "iopub.status.idle": "2023-04-27T13:09:45.404204Z",
     "shell.execute_reply": "2023-04-27T13:09:45.401846Z"
    },
    "id": "2kCU5sg27H8n",
    "outputId": "1f8eb8a5-46f8-4c09-87ce-d1c21f448d7b",
    "papermill": {
     "duration": 0.053556,
     "end_time": "2023-04-27T13:09:45.407696",
     "exception": false,
     "start_time": "2023-04-27T13:09:45.354140",
     "status": "completed"
    },
    "tags": []
   },
   "outputs": [
    {
     "data": {
      "text/html": [
       "<div>\n",
       "<style scoped>\n",
       "    .dataframe tbody tr th:only-of-type {\n",
       "        vertical-align: middle;\n",
       "    }\n",
       "\n",
       "    .dataframe tbody tr th {\n",
       "        vertical-align: top;\n",
       "    }\n",
       "\n",
       "    .dataframe thead th {\n",
       "        text-align: right;\n",
       "    }\n",
       "</style>\n",
       "<table border=\"1\" class=\"dataframe\">\n",
       "  <thead>\n",
       "    <tr style=\"text-align: right;\">\n",
       "      <th></th>\n",
       "      <th>gender</th>\n",
       "      <th>age</th>\n",
       "      <th>no_of_days_subscribed</th>\n",
       "      <th>multi_screen</th>\n",
       "      <th>mail_subscribed</th>\n",
       "      <th>weekly_mins_watched</th>\n",
       "      <th>minimum_daily_mins</th>\n",
       "      <th>maximum_daily_mins</th>\n",
       "      <th>weekly_max_night_mins</th>\n",
       "      <th>videos_watched</th>\n",
       "      <th>maximum_days_inactive</th>\n",
       "      <th>customer_support_calls</th>\n",
       "      <th>churn</th>\n",
       "    </tr>\n",
       "  </thead>\n",
       "  <tbody>\n",
       "    <tr>\n",
       "      <th>0</th>\n",
       "      <td>Female</td>\n",
       "      <td>36</td>\n",
       "      <td>62</td>\n",
       "      <td>no</td>\n",
       "      <td>no</td>\n",
       "      <td>148.35</td>\n",
       "      <td>12.2</td>\n",
       "      <td>16.81</td>\n",
       "      <td>82</td>\n",
       "      <td>1</td>\n",
       "      <td>4.0</td>\n",
       "      <td>1</td>\n",
       "      <td>0.0</td>\n",
       "    </tr>\n",
       "    <tr>\n",
       "      <th>1</th>\n",
       "      <td>Female</td>\n",
       "      <td>39</td>\n",
       "      <td>149</td>\n",
       "      <td>no</td>\n",
       "      <td>no</td>\n",
       "      <td>294.45</td>\n",
       "      <td>7.7</td>\n",
       "      <td>33.37</td>\n",
       "      <td>87</td>\n",
       "      <td>3</td>\n",
       "      <td>3.0</td>\n",
       "      <td>2</td>\n",
       "      <td>0.0</td>\n",
       "    </tr>\n",
       "    <tr>\n",
       "      <th>2</th>\n",
       "      <td>Female</td>\n",
       "      <td>65</td>\n",
       "      <td>126</td>\n",
       "      <td>no</td>\n",
       "      <td>no</td>\n",
       "      <td>87.30</td>\n",
       "      <td>11.9</td>\n",
       "      <td>9.89</td>\n",
       "      <td>91</td>\n",
       "      <td>1</td>\n",
       "      <td>4.0</td>\n",
       "      <td>5</td>\n",
       "      <td>1.0</td>\n",
       "    </tr>\n",
       "    <tr>\n",
       "      <th>3</th>\n",
       "      <td>Female</td>\n",
       "      <td>24</td>\n",
       "      <td>131</td>\n",
       "      <td>no</td>\n",
       "      <td>yes</td>\n",
       "      <td>321.30</td>\n",
       "      <td>9.5</td>\n",
       "      <td>36.41</td>\n",
       "      <td>102</td>\n",
       "      <td>4</td>\n",
       "      <td>3.0</td>\n",
       "      <td>3</td>\n",
       "      <td>0.0</td>\n",
       "    </tr>\n",
       "    <tr>\n",
       "      <th>4</th>\n",
       "      <td>Female</td>\n",
       "      <td>40</td>\n",
       "      <td>191</td>\n",
       "      <td>no</td>\n",
       "      <td>no</td>\n",
       "      <td>243.00</td>\n",
       "      <td>10.9</td>\n",
       "      <td>27.54</td>\n",
       "      <td>83</td>\n",
       "      <td>7</td>\n",
       "      <td>3.0</td>\n",
       "      <td>1</td>\n",
       "      <td>0.0</td>\n",
       "    </tr>\n",
       "  </tbody>\n",
       "</table>\n",
       "</div>"
      ],
      "text/plain": [
       "   gender  age  no_of_days_subscribed multi_screen mail_subscribed  \\\n",
       "0  Female   36                     62           no              no   \n",
       "1  Female   39                    149           no              no   \n",
       "2  Female   65                    126           no              no   \n",
       "3  Female   24                    131           no             yes   \n",
       "4  Female   40                    191           no              no   \n",
       "\n",
       "   weekly_mins_watched  minimum_daily_mins  maximum_daily_mins  \\\n",
       "0               148.35                12.2               16.81   \n",
       "1               294.45                 7.7               33.37   \n",
       "2                87.30                11.9                9.89   \n",
       "3               321.30                 9.5               36.41   \n",
       "4               243.00                10.9               27.54   \n",
       "\n",
       "   weekly_max_night_mins  videos_watched  maximum_days_inactive  \\\n",
       "0                     82               1                    4.0   \n",
       "1                     87               3                    3.0   \n",
       "2                     91               1                    4.0   \n",
       "3                    102               4                    3.0   \n",
       "4                     83               7                    3.0   \n",
       "\n",
       "   customer_support_calls  churn  \n",
       "0                       1    0.0  \n",
       "1                       2    0.0  \n",
       "2                       5    1.0  \n",
       "3                       3    0.0  \n",
       "4                       1    0.0  "
      ]
     },
     "execution_count": 9,
     "metadata": {},
     "output_type": "execute_result"
    }
   ],
   "source": [
    "df.head()"
   ]
  },
  {
   "cell_type": "code",
   "execution_count": 10,
   "id": "3bab380e",
   "metadata": {
    "execution": {
     "iopub.execute_input": "2023-04-27T13:09:45.449678Z",
     "iopub.status.busy": "2023-04-27T13:09:45.448991Z",
     "iopub.status.idle": "2023-04-27T13:09:45.459295Z",
     "shell.execute_reply": "2023-04-27T13:09:45.457203Z"
    },
    "id": "-RF_DQ0D7H_O",
    "papermill": {
     "duration": 0.035161,
     "end_time": "2023-04-27T13:09:45.462372",
     "exception": false,
     "start_time": "2023-04-27T13:09:45.427211",
     "status": "completed"
    },
    "tags": []
   },
   "outputs": [],
   "source": [
    "#filling the missing Embarked values in train and test datasets\n",
    "df.gender.fillna('Female',inplace=True)"
   ]
  },
  {
   "cell_type": "code",
   "execution_count": 11,
   "id": "2c1723f4",
   "metadata": {
    "execution": {
     "iopub.execute_input": "2023-04-27T13:09:45.505630Z",
     "iopub.status.busy": "2023-04-27T13:09:45.504946Z",
     "iopub.status.idle": "2023-04-27T13:09:45.519918Z",
     "shell.execute_reply": "2023-04-27T13:09:45.517839Z"
    },
    "id": "R_JMy2Sv7buA",
    "outputId": "d00f91c7-465e-49e7-d78d-6d5cdcdc2e00",
    "papermill": {
     "duration": 0.040971,
     "end_time": "2023-04-27T13:09:45.523692",
     "exception": false,
     "start_time": "2023-04-27T13:09:45.482721",
     "status": "completed"
    },
    "tags": []
   },
   "outputs": [
    {
     "data": {
      "text/plain": [
       "gender                     0\n",
       "age                        0\n",
       "no_of_days_subscribed      0\n",
       "multi_screen               0\n",
       "mail_subscribed            0\n",
       "weekly_mins_watched        0\n",
       "minimum_daily_mins         0\n",
       "maximum_daily_mins         0\n",
       "weekly_max_night_mins      0\n",
       "videos_watched             0\n",
       "maximum_days_inactive     28\n",
       "customer_support_calls     0\n",
       "churn                     35\n",
       "dtype: int64"
      ]
     },
     "execution_count": 11,
     "metadata": {},
     "output_type": "execute_result"
    }
   ],
   "source": [
    "df.isnull().sum()"
   ]
  },
  {
   "cell_type": "code",
   "execution_count": 12,
   "id": "0ec2ad60",
   "metadata": {
    "execution": {
     "iopub.execute_input": "2023-04-27T13:09:45.564228Z",
     "iopub.status.busy": "2023-04-27T13:09:45.563685Z",
     "iopub.status.idle": "2023-04-27T13:09:45.573982Z",
     "shell.execute_reply": "2023-04-27T13:09:45.572086Z"
    },
    "id": "0lLNbzLe7e0d",
    "outputId": "d87c4a3e-8bb3-4508-ec76-ca43879bca30",
    "papermill": {
     "duration": 0.034282,
     "end_time": "2023-04-27T13:09:45.577161",
     "exception": false,
     "start_time": "2023-04-27T13:09:45.542879",
     "status": "completed"
    },
    "tags": []
   },
   "outputs": [
    {
     "name": "stdout",
     "output_type": "stream",
     "text": [
      "The Median is : 3\n"
     ]
    }
   ],
   "source": [
    "print(\"The Median is :\", int(df.maximum_days_inactive.median()))"
   ]
  },
  {
   "cell_type": "code",
   "execution_count": 13,
   "id": "06bc1394",
   "metadata": {
    "execution": {
     "iopub.execute_input": "2023-04-27T13:09:45.623462Z",
     "iopub.status.busy": "2023-04-27T13:09:45.622863Z",
     "iopub.status.idle": "2023-04-27T13:09:45.633152Z",
     "shell.execute_reply": "2023-04-27T13:09:45.631237Z"
    },
    "id": "ndMwdWkl7gHa",
    "papermill": {
     "duration": 0.037845,
     "end_time": "2023-04-27T13:09:45.637146",
     "exception": false,
     "start_time": "2023-04-27T13:09:45.599301",
     "status": "completed"
    },
    "tags": []
   },
   "outputs": [],
   "source": [
    "#filling the missing values in the Maximum inactive days column\n",
    "df.maximum_days_inactive.fillna(3, inplace=True)"
   ]
  },
  {
   "cell_type": "code",
   "execution_count": 14,
   "id": "82e76b13",
   "metadata": {
    "execution": {
     "iopub.execute_input": "2023-04-27T13:09:45.682964Z",
     "iopub.status.busy": "2023-04-27T13:09:45.682386Z",
     "iopub.status.idle": "2023-04-27T13:09:45.694131Z",
     "shell.execute_reply": "2023-04-27T13:09:45.691866Z"
    },
    "id": "G-tkaiC_7hqa",
    "outputId": "35a0e12b-54cf-4313-9260-fafa5d52721b",
    "papermill": {
     "duration": 0.03872,
     "end_time": "2023-04-27T13:09:45.697099",
     "exception": false,
     "start_time": "2023-04-27T13:09:45.658379",
     "status": "completed"
    },
    "tags": []
   },
   "outputs": [
    {
     "name": "stdout",
     "output_type": "stream",
     "text": [
      "The Median is : 0\n"
     ]
    }
   ],
   "source": [
    "print(\"The Median is :\", int(df.churn.median()))"
   ]
  },
  {
   "cell_type": "markdown",
   "id": "14e067bd",
   "metadata": {
    "id": "VMkwAlVIuJLB",
    "papermill": {
     "duration": 0.020417,
     "end_time": "2023-04-27T13:09:45.738377",
     "exception": false,
     "start_time": "2023-04-27T13:09:45.717960",
     "status": "completed"
    },
    "tags": []
   },
   "source": [
    "## Filling the missing values in the Churn column"
   ]
  },
  {
   "cell_type": "code",
   "execution_count": 15,
   "id": "bd7cde5c",
   "metadata": {
    "execution": {
     "iopub.execute_input": "2023-04-27T13:09:45.781688Z",
     "iopub.status.busy": "2023-04-27T13:09:45.781115Z",
     "iopub.status.idle": "2023-04-27T13:09:45.789520Z",
     "shell.execute_reply": "2023-04-27T13:09:45.787260Z"
    },
    "id": "acQjrsxI7jL2",
    "papermill": {
     "duration": 0.034276,
     "end_time": "2023-04-27T13:09:45.792988",
     "exception": false,
     "start_time": "2023-04-27T13:09:45.758712",
     "status": "completed"
    },
    "tags": []
   },
   "outputs": [],
   "source": [
    "#filling the missing values in the Churn column\n",
    "df.churn.fillna(0, inplace=True)"
   ]
  },
  {
   "cell_type": "markdown",
   "id": "3f63132a",
   "metadata": {
    "id": "lPvPtu3zuWqR",
    "papermill": {
     "duration": 0.018256,
     "end_time": "2023-04-27T13:09:45.830159",
     "exception": false,
     "start_time": "2023-04-27T13:09:45.811903",
     "status": "completed"
    },
    "tags": []
   },
   "source": []
  },
  {
   "cell_type": "code",
   "execution_count": 16,
   "id": "5b16f8ee",
   "metadata": {
    "execution": {
     "iopub.execute_input": "2023-04-27T13:09:45.872806Z",
     "iopub.status.busy": "2023-04-27T13:09:45.872345Z",
     "iopub.status.idle": "2023-04-27T13:09:45.884906Z",
     "shell.execute_reply": "2023-04-27T13:09:45.883101Z"
    },
    "id": "Go9_cZqo7k1P",
    "outputId": "bf9ae216-8b7c-4162-886a-314049f3c4ca",
    "papermill": {
     "duration": 0.037427,
     "end_time": "2023-04-27T13:09:45.888088",
     "exception": false,
     "start_time": "2023-04-27T13:09:45.850661",
     "status": "completed"
    },
    "tags": []
   },
   "outputs": [
    {
     "data": {
      "text/plain": [
       "gender                    0\n",
       "age                       0\n",
       "no_of_days_subscribed     0\n",
       "multi_screen              0\n",
       "mail_subscribed           0\n",
       "weekly_mins_watched       0\n",
       "minimum_daily_mins        0\n",
       "maximum_daily_mins        0\n",
       "weekly_max_night_mins     0\n",
       "videos_watched            0\n",
       "maximum_days_inactive     0\n",
       "customer_support_calls    0\n",
       "churn                     0\n",
       "dtype: int64"
      ]
     },
     "execution_count": 16,
     "metadata": {},
     "output_type": "execute_result"
    }
   ],
   "source": [
    "df.isnull().sum()"
   ]
  },
  {
   "cell_type": "markdown",
   "id": "ecbbbe61",
   "metadata": {
    "id": "cUyVu5u9uG8R",
    "papermill": {
     "duration": 0.019434,
     "end_time": "2023-04-27T13:09:45.926551",
     "exception": false,
     "start_time": "2023-04-27T13:09:45.907117",
     "status": "completed"
    },
    "tags": []
   },
   "source": [
    "## Converting categorical variables into numerical ones"
   ]
  },
  {
   "cell_type": "code",
   "execution_count": 17,
   "id": "ba71bdef",
   "metadata": {
    "execution": {
     "iopub.execute_input": "2023-04-27T13:09:45.967499Z",
     "iopub.status.busy": "2023-04-27T13:09:45.967027Z",
     "iopub.status.idle": "2023-04-27T13:09:45.997738Z",
     "shell.execute_reply": "2023-04-27T13:09:45.995940Z"
    },
    "id": "3kIS5yxW7mWS",
    "outputId": "1067c969-ace7-4a81-b4ba-dbe76f64a53a",
    "papermill": {
     "duration": 0.054903,
     "end_time": "2023-04-27T13:09:46.000859",
     "exception": false,
     "start_time": "2023-04-27T13:09:45.945956",
     "status": "completed"
    },
    "tags": []
   },
   "outputs": [
    {
     "data": {
      "text/html": [
       "<div>\n",
       "<style scoped>\n",
       "    .dataframe tbody tr th:only-of-type {\n",
       "        vertical-align: middle;\n",
       "    }\n",
       "\n",
       "    .dataframe tbody tr th {\n",
       "        vertical-align: top;\n",
       "    }\n",
       "\n",
       "    .dataframe thead th {\n",
       "        text-align: right;\n",
       "    }\n",
       "</style>\n",
       "<table border=\"1\" class=\"dataframe\">\n",
       "  <thead>\n",
       "    <tr style=\"text-align: right;\">\n",
       "      <th></th>\n",
       "      <th>age</th>\n",
       "      <th>no_of_days_subscribed</th>\n",
       "      <th>weekly_mins_watched</th>\n",
       "      <th>minimum_daily_mins</th>\n",
       "      <th>maximum_daily_mins</th>\n",
       "      <th>weekly_max_night_mins</th>\n",
       "      <th>videos_watched</th>\n",
       "      <th>maximum_days_inactive</th>\n",
       "      <th>customer_support_calls</th>\n",
       "      <th>churn</th>\n",
       "      <th>gender_Male</th>\n",
       "      <th>multi_screen_yes</th>\n",
       "      <th>mail_subscribed_yes</th>\n",
       "    </tr>\n",
       "  </thead>\n",
       "  <tbody>\n",
       "    <tr>\n",
       "      <th>0</th>\n",
       "      <td>36</td>\n",
       "      <td>62</td>\n",
       "      <td>148.35</td>\n",
       "      <td>12.2</td>\n",
       "      <td>16.81</td>\n",
       "      <td>82</td>\n",
       "      <td>1</td>\n",
       "      <td>4.0</td>\n",
       "      <td>1</td>\n",
       "      <td>0.0</td>\n",
       "      <td>0</td>\n",
       "      <td>0</td>\n",
       "      <td>0</td>\n",
       "    </tr>\n",
       "    <tr>\n",
       "      <th>1</th>\n",
       "      <td>39</td>\n",
       "      <td>149</td>\n",
       "      <td>294.45</td>\n",
       "      <td>7.7</td>\n",
       "      <td>33.37</td>\n",
       "      <td>87</td>\n",
       "      <td>3</td>\n",
       "      <td>3.0</td>\n",
       "      <td>2</td>\n",
       "      <td>0.0</td>\n",
       "      <td>0</td>\n",
       "      <td>0</td>\n",
       "      <td>0</td>\n",
       "    </tr>\n",
       "    <tr>\n",
       "      <th>2</th>\n",
       "      <td>65</td>\n",
       "      <td>126</td>\n",
       "      <td>87.30</td>\n",
       "      <td>11.9</td>\n",
       "      <td>9.89</td>\n",
       "      <td>91</td>\n",
       "      <td>1</td>\n",
       "      <td>4.0</td>\n",
       "      <td>5</td>\n",
       "      <td>1.0</td>\n",
       "      <td>0</td>\n",
       "      <td>0</td>\n",
       "      <td>0</td>\n",
       "    </tr>\n",
       "    <tr>\n",
       "      <th>3</th>\n",
       "      <td>24</td>\n",
       "      <td>131</td>\n",
       "      <td>321.30</td>\n",
       "      <td>9.5</td>\n",
       "      <td>36.41</td>\n",
       "      <td>102</td>\n",
       "      <td>4</td>\n",
       "      <td>3.0</td>\n",
       "      <td>3</td>\n",
       "      <td>0.0</td>\n",
       "      <td>0</td>\n",
       "      <td>0</td>\n",
       "      <td>1</td>\n",
       "    </tr>\n",
       "    <tr>\n",
       "      <th>4</th>\n",
       "      <td>40</td>\n",
       "      <td>191</td>\n",
       "      <td>243.00</td>\n",
       "      <td>10.9</td>\n",
       "      <td>27.54</td>\n",
       "      <td>83</td>\n",
       "      <td>7</td>\n",
       "      <td>3.0</td>\n",
       "      <td>1</td>\n",
       "      <td>0.0</td>\n",
       "      <td>0</td>\n",
       "      <td>0</td>\n",
       "      <td>0</td>\n",
       "    </tr>\n",
       "  </tbody>\n",
       "</table>\n",
       "</div>"
      ],
      "text/plain": [
       "   age  no_of_days_subscribed  weekly_mins_watched  minimum_daily_mins  \\\n",
       "0   36                     62               148.35                12.2   \n",
       "1   39                    149               294.45                 7.7   \n",
       "2   65                    126                87.30                11.9   \n",
       "3   24                    131               321.30                 9.5   \n",
       "4   40                    191               243.00                10.9   \n",
       "\n",
       "   maximum_daily_mins  weekly_max_night_mins  videos_watched  \\\n",
       "0               16.81                     82               1   \n",
       "1               33.37                     87               3   \n",
       "2                9.89                     91               1   \n",
       "3               36.41                    102               4   \n",
       "4               27.54                     83               7   \n",
       "\n",
       "   maximum_days_inactive  customer_support_calls  churn  gender_Male  \\\n",
       "0                    4.0                       1    0.0            0   \n",
       "1                    3.0                       2    0.0            0   \n",
       "2                    4.0                       5    1.0            0   \n",
       "3                    3.0                       3    0.0            0   \n",
       "4                    3.0                       1    0.0            0   \n",
       "\n",
       "   multi_screen_yes  mail_subscribed_yes  \n",
       "0                 0                    0  \n",
       "1                 0                    0  \n",
       "2                 0                    0  \n",
       "3                 0                    1  \n",
       "4                 0                    0  "
      ]
     },
     "execution_count": 17,
     "metadata": {},
     "output_type": "execute_result"
    }
   ],
   "source": [
    "#Converting categorical variables into numerical ones\n",
    "df2 = pd.get_dummies(df,columns=['gender','multi_screen','mail_subscribed'],drop_first=True)\n",
    "df2.head()"
   ]
  },
  {
   "cell_type": "markdown",
   "id": "6b483753",
   "metadata": {
    "id": "D2sxk2q1t9pg",
    "papermill": {
     "duration": 0.01833,
     "end_time": "2023-04-27T13:09:46.038149",
     "exception": false,
     "start_time": "2023-04-27T13:09:46.019819",
     "status": "completed"
    },
    "tags": []
   },
   "source": [
    "## Splitting out trianing data into X: features and Y: target"
   ]
  },
  {
   "cell_type": "code",
   "execution_count": 18,
   "id": "c9d4ebca",
   "metadata": {
    "execution": {
     "iopub.execute_input": "2023-04-27T13:09:46.080694Z",
     "iopub.status.busy": "2023-04-27T13:09:46.079158Z",
     "iopub.status.idle": "2023-04-27T13:09:46.098842Z",
     "shell.execute_reply": "2023-04-27T13:09:46.097106Z"
    },
    "id": "fYoLjX8x7m0c",
    "papermill": {
     "duration": 0.044798,
     "end_time": "2023-04-27T13:09:46.102167",
     "exception": false,
     "start_time": "2023-04-27T13:09:46.057369",
     "status": "completed"
    },
    "tags": []
   },
   "outputs": [],
   "source": [
    "#Splitting out training data into X: features and Y: target\n",
    "X = df2.drop(\"churn\",axis=1) \n",
    "Y = df2[\"churn\"]\n",
    "\n",
    "### Sandardization of data ###\n",
    "### We does not standardize the Target variable for classification\n",
    "from sklearn.preprocessing import StandardScaler\n",
    "sc=StandardScaler()\n",
    "# Storing the fit object for later reference\n",
    "sc=sc.fit(X)\n",
    "# Generating the standardized values of X and y\n",
    "X=sc.transform(X)\n",
    "\n",
    "\n",
    "#splitting our training data again in train and test data\n",
    "X_train, X_test, Y_train, Y_test = train_test_split(X, Y, test_size=0.3,random_state=42)"
   ]
  },
  {
   "cell_type": "markdown",
   "id": "215eae76",
   "metadata": {
    "id": "4zKdMdgdt32B",
    "papermill": {
     "duration": 0.01861,
     "end_time": "2023-04-27T13:09:46.139876",
     "exception": false,
     "start_time": "2023-04-27T13:09:46.121266",
     "status": "completed"
    },
    "tags": []
   },
   "source": [
    "## Logistic Regression"
   ]
  },
  {
   "cell_type": "code",
   "execution_count": 19,
   "id": "34da0362",
   "metadata": {
    "execution": {
     "iopub.execute_input": "2023-04-27T13:09:46.180262Z",
     "iopub.status.busy": "2023-04-27T13:09:46.179777Z",
     "iopub.status.idle": "2023-04-27T13:09:46.221672Z",
     "shell.execute_reply": "2023-04-27T13:09:46.218947Z"
    },
    "id": "iMFV3YuQ7pvv",
    "outputId": "262f0dfa-e49f-4d29-e07c-4afb88381739",
    "papermill": {
     "duration": 0.069083,
     "end_time": "2023-04-27T13:09:46.227941",
     "exception": false,
     "start_time": "2023-04-27T13:09:46.158858",
     "status": "completed"
    },
    "tags": []
   },
   "outputs": [
    {
     "data": {
      "text/plain": [
       "86.17"
      ]
     },
     "execution_count": 19,
     "metadata": {},
     "output_type": "execute_result"
    }
   ],
   "source": [
    "#Logistic Regression\n",
    "logreg = LogisticRegression()\n",
    "logreg.fit(X_train,Y_train)\n",
    "Y_pred = logreg.predict(X_test)\n",
    "acc_logreg = round(accuracy_score(Y_pred, Y_test) * 100, 2)\n",
    "acc_logreg"
   ]
  },
  {
   "cell_type": "code",
   "execution_count": 20,
   "id": "0cd9c3ed",
   "metadata": {
    "execution": {
     "iopub.execute_input": "2023-04-27T13:09:46.329899Z",
     "iopub.status.busy": "2023-04-27T13:09:46.329415Z",
     "iopub.status.idle": "2023-04-27T13:09:46.426820Z",
     "shell.execute_reply": "2023-04-27T13:09:46.425392Z"
    },
    "id": "gdiUCVJP7vVQ",
    "outputId": "58c697d3-0cea-4dd1-9196-a794a6cfdfdc",
    "papermill": {
     "duration": 0.153547,
     "end_time": "2023-04-27T13:09:46.431560",
     "exception": false,
     "start_time": "2023-04-27T13:09:46.278013",
     "status": "completed"
    },
    "tags": []
   },
   "outputs": [
    {
     "data": {
      "text/plain": [
       "87.1"
      ]
     },
     "execution_count": 20,
     "metadata": {},
     "output_type": "execute_result"
    }
   ],
   "source": [
    "#let's perform some K-fold cross validation for logistic Regression\n",
    "cv_scores = cross_val_score(logreg,X,Y,cv=5)\n",
    " \n",
    "np.mean(cv_scores)*100"
   ]
  },
  {
   "cell_type": "code",
   "execution_count": 21,
   "id": "b2be8fd7",
   "metadata": {
    "execution": {
     "iopub.execute_input": "2023-04-27T13:09:46.534270Z",
     "iopub.status.busy": "2023-04-27T13:09:46.533411Z",
     "iopub.status.idle": "2023-04-27T13:09:46.838018Z",
     "shell.execute_reply": "2023-04-27T13:09:46.836215Z"
    },
    "id": "yGEgnFTdFk3s",
    "outputId": "e7bb7914-2601-469c-e74d-65b4729804ae",
    "papermill": {
     "duration": 0.359493,
     "end_time": "2023-04-27T13:09:46.840749",
     "exception": false,
     "start_time": "2023-04-27T13:09:46.481256",
     "status": "completed"
    },
    "tags": []
   },
   "outputs": [
    {
     "name": "stdout",
     "output_type": "stream",
     "text": [
      "The accuracy score is  86.16666666666667 %\n",
      "[[505  15]\n",
      " [ 68  12]]\n"
     ]
    },
    {
     "data": {
      "image/png": "[encoded data removed]",
      "text/plain": [
       "<Figure size 640x480 with 2 Axes>"
      ]
     },
     "metadata": {},
     "output_type": "display_data"
    }
   ],
   "source": [
    "accuracy = metrics.accuracy_score(Y_test,Y_pred)\n",
    "confusion_matrix = metrics.confusion_matrix(Y_test,Y_pred)\n",
    "\n",
    "print('The accuracy score is ',accuracy*100,'%')\n",
    "sns.heatmap(confusion_matrix)\n",
    "print(confusion_matrix)"
   ]
  },
  {
   "cell_type": "code",
   "execution_count": 22,
   "id": "19844e77",
   "metadata": {
    "execution": {
     "iopub.execute_input": "2023-04-27T13:09:46.882391Z",
     "iopub.status.busy": "2023-04-27T13:09:46.881892Z",
     "iopub.status.idle": "2023-04-27T13:09:46.897114Z",
     "shell.execute_reply": "2023-04-27T13:09:46.894950Z"
    },
    "id": "WaKRxOBTJuGT",
    "outputId": "28194b19-f793-4f7a-eead-365721d56625",
    "papermill": {
     "duration": 0.039373,
     "end_time": "2023-04-27T13:09:46.899895",
     "exception": false,
     "start_time": "2023-04-27T13:09:46.860522",
     "status": "completed"
    },
    "tags": []
   },
   "outputs": [
    {
     "name": "stdout",
     "output_type": "stream",
     "text": [
      "              precision    recall  f1-score   support\n",
      "\n",
      "         0.0       0.88      0.97      0.92       520\n",
      "         1.0       0.44      0.15      0.22        80\n",
      "\n",
      "    accuracy                           0.86       600\n",
      "   macro avg       0.66      0.56      0.57       600\n",
      "weighted avg       0.82      0.86      0.83       600\n",
      "\n"
     ]
    }
   ],
   "source": [
    "\n",
    "print(classification_report(Y_test, Y_pred))"
   ]
  },
  {
   "cell_type": "markdown",
   "id": "4ee49654",
   "metadata": {
    "id": "8tzTBno7vMyU",
    "papermill": {
     "duration": 0.019062,
     "end_time": "2023-04-27T13:09:46.938846",
     "exception": false,
     "start_time": "2023-04-27T13:09:46.919784",
     "status": "completed"
    },
    "tags": []
   },
   "source": [
    "## Decision Tree Classifier"
   ]
  },
  {
   "cell_type": "code",
   "execution_count": 23,
   "id": "19836b44",
   "metadata": {
    "execution": {
     "iopub.execute_input": "2023-04-27T13:09:46.981343Z",
     "iopub.status.busy": "2023-04-27T13:09:46.979667Z",
     "iopub.status.idle": "2023-04-27T13:09:47.334760Z",
     "shell.execute_reply": "2023-04-27T13:09:47.332884Z"
    },
    "id": "ov1uHNLd7w2R",
    "outputId": "d0225c42-2fcc-48da-e640-4b383d43b0d5",
    "papermill": {
     "duration": 0.379563,
     "end_time": "2023-04-27T13:09:47.337756",
     "exception": false,
     "start_time": "2023-04-27T13:09:46.958193",
     "status": "completed"
    },
    "tags": []
   },
   "outputs": [
    {
     "name": "stdout",
     "output_type": "stream",
     "text": [
      "Best value of max_depth: {'max_depth': 5}\n",
      "Best score: 91.5\n"
     ]
    }
   ],
   "source": [
    "#Decision Tree Classifier\n",
    "\n",
    "decisiontree = DecisionTreeClassifier()\n",
    "dep = np.arange(1,10)\n",
    "param_grid = {'max_depth' : dep}\n",
    "\n",
    "clf_cv = GridSearchCV(decisiontree, param_grid=param_grid, cv=5)\n",
    "\n",
    "clf_cv.fit(X, Y)\n",
    "clf_cv.best_params_,clf_cv.best_score_*100\n",
    "print('Best value of max_depth:',clf_cv.best_params_)\n",
    "print('Best score:',clf_cv.best_score_*100)"
   ]
  },
  {
   "cell_type": "code",
   "execution_count": 24,
   "id": "835eb766",
   "metadata": {
    "execution": {
     "iopub.execute_input": "2023-04-27T13:09:47.379938Z",
     "iopub.status.busy": "2023-04-27T13:09:47.379241Z",
     "iopub.status.idle": "2023-04-27T13:09:47.398240Z",
     "shell.execute_reply": "2023-04-27T13:09:47.396243Z"
    },
    "id": "qU1Sal_7F_PC",
    "papermill": {
     "duration": 0.04452,
     "end_time": "2023-04-27T13:09:47.401822",
     "exception": false,
     "start_time": "2023-04-27T13:09:47.357302",
     "status": "completed"
    },
    "tags": []
   },
   "outputs": [],
   "source": [
    "classifier = DecisionTreeClassifier(criterion = 'entropy', random_state = 0)\n",
    "classifier.fit(X_train, Y_train)\n",
    "Y_pred=classifier.predict(X_test)"
   ]
  },
  {
   "cell_type": "code",
   "execution_count": 25,
   "id": "a17ed798",
   "metadata": {
    "execution": {
     "iopub.execute_input": "2023-04-27T13:09:47.443850Z",
     "iopub.status.busy": "2023-04-27T13:09:47.443389Z",
     "iopub.status.idle": "2023-04-27T13:09:47.743538Z",
     "shell.execute_reply": "2023-04-27T13:09:47.741945Z"
    },
    "id": "o28su3OHF1zn",
    "outputId": "a584676f-d314-4594-c28a-0433deffb73d",
    "papermill": {
     "duration": 0.32453,
     "end_time": "2023-04-27T13:09:47.746456",
     "exception": false,
     "start_time": "2023-04-27T13:09:47.421926",
     "status": "completed"
    },
    "tags": []
   },
   "outputs": [
    {
     "name": "stdout",
     "output_type": "stream",
     "text": [
      "The accuracy score is  86.66666666666667 %\n",
      "[[480  40]\n",
      " [ 40  40]]\n"
     ]
    },
    {
     "data": {
      "image/png": "[encoded data removed]",
      "text/plain": [
       "<Figure size 640x480 with 2 Axes>"
      ]
     },
     "metadata": {},
     "output_type": "display_data"
    }
   ],
   "source": [
    "accuracy = metrics.accuracy_score(Y_test,Y_pred)\n",
    "confusion_matrix = metrics.confusion_matrix(Y_test,Y_pred)\n",
    "\n",
    "print('The accuracy score is ',accuracy*100,'%')\n",
    "sns.heatmap(confusion_matrix)\n",
    "print(confusion_matrix)"
   ]
  },
  {
   "cell_type": "code",
   "execution_count": 26,
   "id": "6c4699e0",
   "metadata": {
    "execution": {
     "iopub.execute_input": "2023-04-27T13:09:47.790406Z",
     "iopub.status.busy": "2023-04-27T13:09:47.789898Z",
     "iopub.status.idle": "2023-04-27T13:09:47.804458Z",
     "shell.execute_reply": "2023-04-27T13:09:47.802503Z"
    },
    "id": "YZJuCNkcJwnA",
    "outputId": "8d014134-9fbf-4973-946f-8aca6d94b296",
    "papermill": {
     "duration": 0.040368,
     "end_time": "2023-04-27T13:09:47.807692",
     "exception": false,
     "start_time": "2023-04-27T13:09:47.767324",
     "status": "completed"
    },
    "tags": []
   },
   "outputs": [
    {
     "name": "stdout",
     "output_type": "stream",
     "text": [
      "              precision    recall  f1-score   support\n",
      "\n",
      "         0.0       0.92      0.92      0.92       520\n",
      "         1.0       0.50      0.50      0.50        80\n",
      "\n",
      "    accuracy                           0.87       600\n",
      "   macro avg       0.71      0.71      0.71       600\n",
      "weighted avg       0.87      0.87      0.87       600\n",
      "\n"
     ]
    }
   ],
   "source": [
    "print(classification_report(Y_test, Y_pred))"
   ]
  },
  {
   "cell_type": "markdown",
   "id": "a10eb36e",
   "metadata": {
    "id": "A83UkcGWwYFZ",
    "papermill": {
     "duration": 0.019874,
     "end_time": "2023-04-27T13:09:47.848061",
     "exception": false,
     "start_time": "2023-04-27T13:09:47.828187",
     "status": "completed"
    },
    "tags": []
   },
   "source": [
    "## Random Forest Classifier"
   ]
  },
  {
   "cell_type": "code",
   "execution_count": 27,
   "id": "7e2015a6",
   "metadata": {
    "execution": {
     "iopub.execute_input": "2023-04-27T13:09:47.891985Z",
     "iopub.status.busy": "2023-04-27T13:09:47.891450Z",
     "iopub.status.idle": "2023-04-27T13:09:51.876578Z",
     "shell.execute_reply": "2023-04-27T13:09:51.875164Z"
    },
    "id": "S1abLgIM7yxy",
    "outputId": "b357eb05-4612-4beb-9a4c-aa85fd7daf42",
    "papermill": {
     "duration": 4.01063,
     "end_time": "2023-04-27T13:09:51.879512",
     "exception": false,
     "start_time": "2023-04-27T13:09:47.868882",
     "status": "completed"
    },
    "tags": []
   },
   "outputs": [
    {
     "name": "stdout",
     "output_type": "stream",
     "text": [
      "Best value of n_estimators: {'n_estimators': 14}\n",
      "Best score: 92.10000000000001\n"
     ]
    }
   ],
   "source": [
    "#Random Forest Classifier\n",
    "\n",
    "random_forest = RandomForestClassifier()\n",
    "ne = np.arange(1,20)\n",
    "param_grid = {'n_estimators' : ne}\n",
    "\n",
    "rf_cv = GridSearchCV(random_forest, param_grid=param_grid, cv=5)\n",
    "\n",
    "rf_cv.fit(X, Y)\n",
    "print('Best value of n_estimators:',rf_cv.best_params_)\n",
    "print('Best score:',rf_cv.best_score_*100)"
   ]
  },
  {
   "cell_type": "code",
   "execution_count": 28,
   "id": "0016f089",
   "metadata": {
    "execution": {
     "iopub.execute_input": "2023-04-27T13:09:51.924756Z",
     "iopub.status.busy": "2023-04-27T13:09:51.923490Z",
     "iopub.status.idle": "2023-04-27T13:09:51.972057Z",
     "shell.execute_reply": "2023-04-27T13:09:51.970689Z"
    },
    "id": "f6A-NuEcHi87",
    "papermill": {
     "duration": 0.074731,
     "end_time": "2023-04-27T13:09:51.975330",
     "exception": false,
     "start_time": "2023-04-27T13:09:51.900599",
     "status": "completed"
    },
    "tags": []
   },
   "outputs": [],
   "source": [
    "\n",
    "classifier = RandomForestClassifier(n_estimators = 11, criterion = 'entropy', random_state = 0)\n",
    "classifier.fit(X_train, Y_train)\n",
    "Y_pred=classifier.predict(X_test)"
   ]
  },
  {
   "cell_type": "code",
   "execution_count": 29,
   "id": "671c1863",
   "metadata": {
    "execution": {
     "iopub.execute_input": "2023-04-27T13:09:52.019715Z",
     "iopub.status.busy": "2023-04-27T13:09:52.019165Z",
     "iopub.status.idle": "2023-04-27T13:09:52.291327Z",
     "shell.execute_reply": "2023-04-27T13:09:52.290157Z"
    },
    "id": "NDZFF71YH2LM",
    "outputId": "ce3cd805-b2d3-4fad-8a53-e1c533ecd809",
    "papermill": {
     "duration": 0.297076,
     "end_time": "2023-04-27T13:09:52.294288",
     "exception": false,
     "start_time": "2023-04-27T13:09:51.997212",
     "status": "completed"
    },
    "tags": []
   },
   "outputs": [
    {
     "name": "stdout",
     "output_type": "stream",
     "text": [
      "The accuracy score is  89.16666666666667 %\n",
      "[[494  26]\n",
      " [ 39  41]]\n"
     ]
    },
    {
     "data": {
      "image/png": "[encoded data removed]",
      "text/plain": [
       "<Figure size 640x480 with 2 Axes>"
      ]
     },
     "metadata": {},
     "output_type": "display_data"
    }
   ],
   "source": [
    "accuracy = metrics.accuracy_score(Y_test,Y_pred)\n",
    "confusion_matrix = metrics.confusion_matrix(Y_test,Y_pred)\n",
    "\n",
    "print('The accuracy score is ',accuracy*100,'%')\n",
    "sns.heatmap(confusion_matrix)\n",
    "print(confusion_matrix)"
   ]
  },
  {
   "cell_type": "code",
   "execution_count": 30,
   "id": "152c737f",
   "metadata": {
    "execution": {
     "iopub.execute_input": "2023-04-27T13:09:52.339164Z",
     "iopub.status.busy": "2023-04-27T13:09:52.338632Z",
     "iopub.status.idle": "2023-04-27T13:09:52.353672Z",
     "shell.execute_reply": "2023-04-27T13:09:52.351792Z"
    },
    "id": "FkNeXdgqJxxN",
    "outputId": "ea5e78a9-6a9d-4fb9-a9b3-5cdf4a066415",
    "papermill": {
     "duration": 0.041938,
     "end_time": "2023-04-27T13:09:52.357216",
     "exception": false,
     "start_time": "2023-04-27T13:09:52.315278",
     "status": "completed"
    },
    "tags": []
   },
   "outputs": [
    {
     "name": "stdout",
     "output_type": "stream",
     "text": [
      "              precision    recall  f1-score   support\n",
      "\n",
      "         0.0       0.93      0.95      0.94       520\n",
      "         1.0       0.61      0.51      0.56        80\n",
      "\n",
      "    accuracy                           0.89       600\n",
      "   macro avg       0.77      0.73      0.75       600\n",
      "weighted avg       0.88      0.89      0.89       600\n",
      "\n"
     ]
    }
   ],
   "source": [
    "from sklearn.metrics import classification_report\n",
    "print(classification_report(Y_test, Y_pred))"
   ]
  },
  {
   "cell_type": "markdown",
   "id": "60bf91c2",
   "metadata": {
    "id": "15xC3YxDwya0",
    "papermill": {
     "duration": 0.020528,
     "end_time": "2023-04-27T13:09:52.399103",
     "exception": false,
     "start_time": "2023-04-27T13:09:52.378575",
     "status": "completed"
    },
    "tags": []
   },
   "source": [
    "##Gradient Boosting Classifier"
   ]
  },
  {
   "cell_type": "code",
   "execution_count": 31,
   "id": "71e11d8a",
   "metadata": {
    "execution": {
     "iopub.execute_input": "2023-04-27T13:09:52.442951Z",
     "iopub.status.busy": "2023-04-27T13:09:52.442084Z",
     "iopub.status.idle": "2023-04-27T13:10:45.410029Z",
     "shell.execute_reply": "2023-04-27T13:10:45.408021Z"
    },
    "id": "hPIhUe2q7zSU",
    "outputId": "0c1c5c94-bdb1-40df-ad10-2535491c7a2c",
    "papermill": {
     "duration": 53.013535,
     "end_time": "2023-04-27T13:10:45.432932",
     "exception": false,
     "start_time": "2023-04-27T13:09:52.419397",
     "status": "completed"
    },
    "tags": []
   },
   "outputs": [
    {
     "name": "stdout",
     "output_type": "stream",
     "text": [
      "Best value of parameters: {'max_depth': 5, 'n_estimators': 13}\n",
      "Best score: 92.15\n"
     ]
    }
   ],
   "source": [
    "#Gradient Boosting Classifier\n",
    "\n",
    "gbk = GradientBoostingClassifier()\n",
    "ne = np.arange(1,20)\n",
    "dep = np.arange(1,10)\n",
    "param_grid = {'n_estimators' : ne,'max_depth' : dep}\n",
    "\n",
    "gbk_cv = GridSearchCV(gbk, param_grid=param_grid, cv=5)\n",
    "\n",
    "gbk_cv.fit(X, Y)\n",
    "print('Best value of parameters:',gbk_cv.best_params_)\n",
    "print('Best score:',gbk_cv.best_score_*100)"
   ]
  },
  {
   "cell_type": "code",
   "execution_count": 32,
   "id": "6f5d24dd",
   "metadata": {
    "execution": {
     "iopub.execute_input": "2023-04-27T13:10:45.478347Z",
     "iopub.status.busy": "2023-04-27T13:10:45.477845Z",
     "iopub.status.idle": "2023-04-27T13:10:45.620588Z",
     "shell.execute_reply": "2023-04-27T13:10:45.618735Z"
    },
    "id": "Omi3b6BiIGuz",
    "papermill": {
     "duration": 0.1706,
     "end_time": "2023-04-27T13:10:45.623939",
     "exception": false,
     "start_time": "2023-04-27T13:10:45.453339",
     "status": "completed"
    },
    "tags": []
   },
   "outputs": [],
   "source": [
    "classifier=GradientBoostingClassifier(n_estimators=100, learning_rate=1.0,max_depth=1, random_state=0).fit(X_train, Y_train)\n",
    "Y_pred=classifier.predict(X_test)\n"
   ]
  },
  {
   "cell_type": "code",
   "execution_count": 33,
   "id": "2940a28c",
   "metadata": {
    "execution": {
     "iopub.execute_input": "2023-04-27T13:10:45.667956Z",
     "iopub.status.busy": "2023-04-27T13:10:45.667443Z",
     "iopub.status.idle": "2023-04-27T13:10:45.942990Z",
     "shell.execute_reply": "2023-04-27T13:10:45.941551Z"
    },
    "id": "Q2of6PGvJJcH",
    "outputId": "e344146d-0e1d-47a0-dde7-9957193e8e2d",
    "papermill": {
     "duration": 0.30121,
     "end_time": "2023-04-27T13:10:45.945810",
     "exception": false,
     "start_time": "2023-04-27T13:10:45.644600",
     "status": "completed"
    },
    "tags": []
   },
   "outputs": [
    {
     "name": "stdout",
     "output_type": "stream",
     "text": [
      "The accuracy score is  86.66666666666667 %\n",
      "[[491  29]\n",
      " [ 51  29]]\n"
     ]
    },
    {
     "data": {
      "image/png": "[encoded data removed]",
      "text/plain": [
       "<Figure size 640x480 with 2 Axes>"
      ]
     },
     "metadata": {},
     "output_type": "display_data"
    }
   ],
   "source": [
    "accuracy = metrics.accuracy_score(Y_test,Y_pred)\n",
    "confusion_matrix = metrics.confusion_matrix(Y_test,Y_pred)\n",
    "\n",
    "print('The accuracy score is ',accuracy*100,'%')\n",
    "sns.heatmap(confusion_matrix)\n",
    "print(confusion_matrix)"
   ]
  },
  {
   "cell_type": "code",
   "execution_count": 34,
   "id": "8ea83706",
   "metadata": {
    "execution": {
     "iopub.execute_input": "2023-04-27T13:10:45.992575Z",
     "iopub.status.busy": "2023-04-27T13:10:45.992068Z",
     "iopub.status.idle": "2023-04-27T13:10:46.005991Z",
     "shell.execute_reply": "2023-04-27T13:10:46.003910Z"
    },
    "id": "8Xdc3Q1ZJyul",
    "outputId": "92301673-4a27-4524-9802-2ad41cc738a9",
    "papermill": {
     "duration": 0.04143,
     "end_time": "2023-04-27T13:10:46.008962",
     "exception": false,
     "start_time": "2023-04-27T13:10:45.967532",
     "status": "completed"
    },
    "tags": []
   },
   "outputs": [
    {
     "name": "stdout",
     "output_type": "stream",
     "text": [
      "              precision    recall  f1-score   support\n",
      "\n",
      "         0.0       0.91      0.94      0.92       520\n",
      "         1.0       0.50      0.36      0.42        80\n",
      "\n",
      "    accuracy                           0.87       600\n",
      "   macro avg       0.70      0.65      0.67       600\n",
      "weighted avg       0.85      0.87      0.86       600\n",
      "\n"
     ]
    }
   ],
   "source": [
    "print(classification_report(Y_test, Y_pred))"
   ]
  },
  {
   "cell_type": "markdown",
   "id": "0134da0e",
   "metadata": {
    "id": "lM-3vwF3xcl3",
    "papermill": {
     "duration": 0.021981,
     "end_time": "2023-04-27T13:10:46.051569",
     "exception": false,
     "start_time": "2023-04-27T13:10:46.029588",
     "status": "completed"
    },
    "tags": []
   },
   "source": [
    "## KNN classificattion"
   ]
  },
  {
   "cell_type": "code",
   "execution_count": 35,
   "id": "9b078cd0",
   "metadata": {
    "execution": {
     "iopub.execute_input": "2023-04-27T13:10:46.106206Z",
     "iopub.status.busy": "2023-04-27T13:10:46.105695Z",
     "iopub.status.idle": "2023-04-27T13:10:46.153800Z",
     "shell.execute_reply": "2023-04-27T13:10:46.152404Z"
    },
    "id": "7wFoizA271FB",
    "outputId": "bb6cf402-845b-4fee-fea9-034726d69b7b",
    "papermill": {
     "duration": 0.074972,
     "end_time": "2023-04-27T13:10:46.157223",
     "exception": false,
     "start_time": "2023-04-27T13:10:46.082251",
     "status": "completed"
    },
    "tags": []
   },
   "outputs": [
    {
     "data": {
      "text/plain": [
       "87.67"
      ]
     },
     "execution_count": 35,
     "metadata": {},
     "output_type": "execute_result"
    }
   ],
   "source": [
    "from sklearn.neighbors import KNeighborsClassifier\n",
    "knn = KNeighborsClassifier(n_neighbors=7)\n",
    "  \n",
    "knn.fit(X_train, Y_train)\n",
    "Y_pred = knn.predict(X_test)\n",
    "acc_knn = round(accuracy_score(Y_pred, Y_test) * 100, 2)\n",
    "acc_knn\n"
   ]
  },
  {
   "cell_type": "code",
   "execution_count": 36,
   "id": "54657db5",
   "metadata": {
    "execution": {
     "iopub.execute_input": "2023-04-27T13:10:46.202836Z",
     "iopub.status.busy": "2023-04-27T13:10:46.202301Z",
     "iopub.status.idle": "2023-04-27T13:10:46.476972Z",
     "shell.execute_reply": "2023-04-27T13:10:46.475392Z"
    },
    "id": "HrtpeWWOJTEl",
    "outputId": "fdfd198c-9072-4aa2-f3d2-bce0b27cb8f0",
    "papermill": {
     "duration": 0.30256,
     "end_time": "2023-04-27T13:10:46.480582",
     "exception": false,
     "start_time": "2023-04-27T13:10:46.178022",
     "status": "completed"
    },
    "tags": []
   },
   "outputs": [
    {
     "name": "stdout",
     "output_type": "stream",
     "text": [
      "The accuracy score is  87.66666666666667 %\n",
      "[[508  12]\n",
      " [ 62  18]]\n"
     ]
    },
    {
     "data": {
      "image/png": "[encoded data removed]",
      "text/plain": [
       "<Figure size 640x480 with 2 Axes>"
      ]
     },
     "metadata": {},
     "output_type": "display_data"
    }
   ],
   "source": [
    "accuracy = metrics.accuracy_score(Y_test,Y_pred)\n",
    "confusion_matrix = metrics.confusion_matrix(Y_test,Y_pred)\n",
    "\n",
    "print('The accuracy score is ',accuracy*100,'%')\n",
    "sns.heatmap(confusion_matrix)\n",
    "print(confusion_matrix)"
   ]
  },
  {
   "cell_type": "code",
   "execution_count": 37,
   "id": "adce259d",
   "metadata": {
    "execution": {
     "iopub.execute_input": "2023-04-27T13:10:46.528790Z",
     "iopub.status.busy": "2023-04-27T13:10:46.527715Z",
     "iopub.status.idle": "2023-04-27T13:10:46.542574Z",
     "shell.execute_reply": "2023-04-27T13:10:46.540535Z"
    },
    "id": "JwfiaO2_Jzbq",
    "outputId": "ad1d7624-30c7-4dc5-b5ed-31781502b459",
    "papermill": {
     "duration": 0.041654,
     "end_time": "2023-04-27T13:10:46.545642",
     "exception": false,
     "start_time": "2023-04-27T13:10:46.503988",
     "status": "completed"
    },
    "tags": []
   },
   "outputs": [
    {
     "name": "stdout",
     "output_type": "stream",
     "text": [
      "              precision    recall  f1-score   support\n",
      "\n",
      "         0.0       0.89      0.98      0.93       520\n",
      "         1.0       0.60      0.23      0.33        80\n",
      "\n",
      "    accuracy                           0.88       600\n",
      "   macro avg       0.75      0.60      0.63       600\n",
      "weighted avg       0.85      0.88      0.85       600\n",
      "\n"
     ]
    }
   ],
   "source": [
    "print(classification_report(Y_test, Y_pred))"
   ]
  },
  {
   "cell_type": "markdown",
   "id": "c95d2783",
   "metadata": {
    "id": "fRmVPwjeyAs8",
    "papermill": {
     "duration": 0.022413,
     "end_time": "2023-04-27T13:10:46.590698",
     "exception": false,
     "start_time": "2023-04-27T13:10:46.568285",
     "status": "completed"
    },
    "tags": []
   },
   "source": [
    "## Gradient boost on test data"
   ]
  },
  {
   "cell_type": "code",
   "execution_count": 38,
   "id": "9ab12286",
   "metadata": {
    "execution": {
     "iopub.execute_input": "2023-04-27T13:10:46.638753Z",
     "iopub.status.busy": "2023-04-27T13:10:46.637997Z",
     "iopub.status.idle": "2023-04-27T13:10:46.717980Z",
     "shell.execute_reply": "2023-04-27T13:10:46.716294Z"
    },
    "id": "t767b0Cc72y4",
    "outputId": "a03c8c6f-058c-4f64-9639-301d767792de",
    "papermill": {
     "duration": 0.107021,
     "end_time": "2023-04-27T13:10:46.721020",
     "exception": false,
     "start_time": "2023-04-27T13:10:46.613999",
     "status": "completed"
    },
    "tags": []
   },
   "outputs": [
    {
     "data": {
      "text/plain": [
       "0.9"
      ]
     },
     "execution_count": 38,
     "metadata": {},
     "output_type": "execute_result"
    }
   ],
   "source": [
    "classifier = GradientBoostingClassifier(n_estimators =13, max_depth = 5)\n",
    "classifier.fit(X_train, Y_train)\n",
    "classifier.score(X_test, Y_test)"
   ]
  },
  {
   "cell_type": "code",
   "execution_count": 39,
   "id": "84cf3036",
   "metadata": {
    "execution": {
     "iopub.execute_input": "2023-04-27T13:10:46.768718Z",
     "iopub.status.busy": "2023-04-27T13:10:46.767074Z",
     "iopub.status.idle": "2023-04-27T13:10:46.776127Z",
     "shell.execute_reply": "2023-04-27T13:10:46.774769Z"
    },
    "id": "fKPUdwuh74DR",
    "papermill": {
     "duration": 0.035304,
     "end_time": "2023-04-27T13:10:46.778858",
     "exception": false,
     "start_time": "2023-04-27T13:10:46.743554",
     "status": "completed"
    },
    "tags": []
   },
   "outputs": [],
   "source": [
    "Y_pred = classifier.predict(X_test)"
   ]
  },
  {
   "cell_type": "code",
   "execution_count": 40,
   "id": "22a9cef9",
   "metadata": {
    "execution": {
     "iopub.execute_input": "2023-04-27T13:10:46.824304Z",
     "iopub.status.busy": "2023-04-27T13:10:46.823787Z",
     "iopub.status.idle": "2023-04-27T13:10:47.089888Z",
     "shell.execute_reply": "2023-04-27T13:10:47.088553Z"
    },
    "id": "2Rrq73DHJi7s",
    "outputId": "951046c4-29d4-4adf-fc46-b9eb28661f44",
    "papermill": {
     "duration": 0.292994,
     "end_time": "2023-04-27T13:10:47.093520",
     "exception": false,
     "start_time": "2023-04-27T13:10:46.800526",
     "status": "completed"
    },
    "tags": []
   },
   "outputs": [
    {
     "name": "stdout",
     "output_type": "stream",
     "text": [
      "The accuracy score is  90.0 %\n",
      "[[501  19]\n",
      " [ 41  39]]\n"
     ]
    },
    {
     "data": {
      "image/png": "[encoded data removed]",
      "text/plain": [
       "<Figure size 640x480 with 2 Axes>"
      ]
     },
     "metadata": {},
     "output_type": "display_data"
    }
   ],
   "source": [
    "accuracy = metrics.accuracy_score(Y_test,Y_pred)\n",
    "confusion_matrix = metrics.confusion_matrix(Y_test,Y_pred)\n",
    "\n",
    "print('The accuracy score is ',accuracy*100,'%')\n",
    "sns.heatmap(confusion_matrix)\n",
    "print(confusion_matrix)"
   ]
  },
  {
   "cell_type": "code",
   "execution_count": 41,
   "id": "6ecc441d",
   "metadata": {
    "execution": {
     "iopub.execute_input": "2023-04-27T13:10:47.140870Z",
     "iopub.status.busy": "2023-04-27T13:10:47.139895Z",
     "iopub.status.idle": "2023-04-27T13:10:47.152736Z",
     "shell.execute_reply": "2023-04-27T13:10:47.151705Z"
    },
    "id": "kt5xPb1Y75l3",
    "outputId": "be5c9892-a43a-4166-88da-3ed35c3513df",
    "papermill": {
     "duration": 0.03974,
     "end_time": "2023-04-27T13:10:47.155445",
     "exception": false,
     "start_time": "2023-04-27T13:10:47.115705",
     "status": "completed"
    },
    "tags": []
   },
   "outputs": [
    {
     "name": "stdout",
     "output_type": "stream",
     "text": [
      "              precision    recall  f1-score   support\n",
      "\n",
      "         0.0       0.92      0.96      0.94       520\n",
      "         1.0       0.67      0.49      0.57        80\n",
      "\n",
      "    accuracy                           0.90       600\n",
      "   macro avg       0.80      0.73      0.75       600\n",
      "weighted avg       0.89      0.90      0.89       600\n",
      "\n"
     ]
    }
   ],
   "source": [
    "\n",
    "print(classification_report(Y_test, Y_pred))"
   ]
  },
  {
   "cell_type": "markdown",
   "id": "025de041",
   "metadata": {
    "id": "TbGzeZkw9y8g",
    "papermill": {
     "duration": 0.021585,
     "end_time": "2023-04-27T13:10:47.199096",
     "exception": false,
     "start_time": "2023-04-27T13:10:47.177511",
     "status": "completed"
    },
    "tags": []
   },
   "source": [
    "## XGBOOST"
   ]
  },
  {
   "cell_type": "code",
   "execution_count": 42,
   "id": "969ad07d",
   "metadata": {
    "execution": {
     "iopub.execute_input": "2023-04-27T13:10:47.245501Z",
     "iopub.status.busy": "2023-04-27T13:10:47.244947Z",
     "iopub.status.idle": "2023-04-27T13:10:47.940968Z",
     "shell.execute_reply": "2023-04-27T13:10:47.939422Z"
    },
    "id": "9Qo6Ki-R78Kf",
    "outputId": "af4fe9e5-57e7-4581-e338-eba24eb3855f",
    "papermill": {
     "duration": 0.723952,
     "end_time": "2023-04-27T13:10:47.945135",
     "exception": false,
     "start_time": "2023-04-27T13:10:47.221183",
     "status": "completed"
    },
    "tags": []
   },
   "outputs": [
    {
     "data": {
      "text/plain": [
       "XGBClassifier(base_score=0.5, booster='gbtree', callbacks=None,\n",
       "              colsample_bylevel=1, colsample_bynode=1, colsample_bytree=1,\n",
       "              early_stopping_rounds=None, enable_categorical=False,\n",
       "              eval_metric=None, gamma=0, gpu_id=-1, grow_policy='depthwise',\n",
       "              importance_type=None, interaction_constraints='',\n",
       "              learning_rate=0.300000012, max_bin=256, max_cat_to_onehot=4,\n",
       "              max_delta_step=0, max_depth=6, max_leaves=0, min_child_weight=1,\n",
       "              missing=nan, monotone_constraints='()', n_estimators=100,\n",
       "              n_jobs=0, num_parallel_tree=1, predictor='auto', random_state=0,\n",
       "              reg_alpha=0, reg_lambda=1, ...)"
      ]
     },
     "execution_count": 42,
     "metadata": {},
     "output_type": "execute_result"
    }
   ],
   "source": [
    "from xgboost import XGBClassifier\n",
    "classifier = XGBClassifier()\n",
    "classifier.fit(X_train, Y_train)"
   ]
  },
  {
   "cell_type": "code",
   "execution_count": 43,
   "id": "073edf39",
   "metadata": {
    "execution": {
     "iopub.execute_input": "2023-04-27T13:10:47.994805Z",
     "iopub.status.busy": "2023-04-27T13:10:47.994288Z",
     "iopub.status.idle": "2023-04-27T13:10:48.512849Z",
     "shell.execute_reply": "2023-04-27T13:10:48.511727Z"
    },
    "id": "kmIARK4a8ZTQ",
    "outputId": "0f2ec163-ca88-4183-9377-d281cd573e5a",
    "papermill": {
     "duration": 0.546743,
     "end_time": "2023-04-27T13:10:48.515816",
     "exception": false,
     "start_time": "2023-04-27T13:10:47.969073",
     "status": "completed"
    },
    "tags": []
   },
   "outputs": [
    {
     "name": "stdout",
     "output_type": "stream",
     "text": [
      "The accuracy score is  90.0 %\n",
      "[[501  19]\n",
      " [ 41  39]]\n"
     ]
    },
    {
     "data": {
      "image/png": "[encoded data removed]",
      "text/plain": [
       "<Figure size 640x480 with 2 Axes>"
      ]
     },
     "metadata": {},
     "output_type": "display_data"
    }
   ],
   "source": [
    "y_pred = classifier.predict(X_test)\n",
    "accuracy = metrics.accuracy_score(Y_test,Y_pred)\n",
    "confusion_matrix = metrics.confusion_matrix(Y_test,Y_pred)\n",
    "\n",
    "print('The accuracy score is ',accuracy*100,'%')\n",
    "sns.heatmap(confusion_matrix)\n",
    "print(confusion_matrix)"
   ]
  },
  {
   "cell_type": "code",
   "execution_count": 44,
   "id": "4de8e87b",
   "metadata": {
    "execution": {
     "iopub.execute_input": "2023-04-27T13:10:48.564365Z",
     "iopub.status.busy": "2023-04-27T13:10:48.563394Z",
     "iopub.status.idle": "2023-04-27T13:10:53.835627Z",
     "shell.execute_reply": "2023-04-27T13:10:53.834393Z"
    },
    "id": "Ho1e00178jLL",
    "outputId": "f63801ca-a149-4cf3-9022-f1e9e2c8a68e",
    "papermill": {
     "duration": 5.299934,
     "end_time": "2023-04-27T13:10:53.838470",
     "exception": false,
     "start_time": "2023-04-27T13:10:48.538536",
     "status": "completed"
    },
    "tags": []
   },
   "outputs": [
    {
     "name": "stdout",
     "output_type": "stream",
     "text": [
      "Accuracy: 92.86 %\n",
      "Standard Deviation: 1.11 %\n"
     ]
    }
   ],
   "source": [
    "from sklearn.model_selection import cross_val_score\n",
    "accuracies = cross_val_score(estimator = classifier, X = X_train, y = Y_train, cv = 10)\n",
    "print(\"Accuracy: {:.2f} %\".format(accuracies.mean()*100))\n",
    "print(\"Standard Deviation: {:.2f} %\".format(accuracies.std()*100))"
   ]
  },
  {
   "cell_type": "code",
   "execution_count": 45,
   "id": "27791d20",
   "metadata": {
    "execution": {
     "iopub.execute_input": "2023-04-27T13:10:53.888931Z",
     "iopub.status.busy": "2023-04-27T13:10:53.887636Z",
     "iopub.status.idle": "2023-04-27T13:10:53.901767Z",
     "shell.execute_reply": "2023-04-27T13:10:53.900290Z"
    },
    "id": "T9zg5dw-870k",
    "outputId": "a96f8ba5-e1a3-497b-84c6-57d311ea75ad",
    "papermill": {
     "duration": 0.042446,
     "end_time": "2023-04-27T13:10:53.904530",
     "exception": false,
     "start_time": "2023-04-27T13:10:53.862084",
     "status": "completed"
    },
    "tags": []
   },
   "outputs": [
    {
     "name": "stdout",
     "output_type": "stream",
     "text": [
      "              precision    recall  f1-score   support\n",
      "\n",
      "         0.0       0.93      0.95      0.94       520\n",
      "         1.0       0.63      0.55      0.59        80\n",
      "\n",
      "    accuracy                           0.90       600\n",
      "   macro avg       0.78      0.75      0.76       600\n",
      "weighted avg       0.89      0.90      0.89       600\n",
      "\n"
     ]
    }
   ],
   "source": [
    "\n",
    "print(classification_report(Y_test, y_pred))"
   ]
  },
  {
   "cell_type": "markdown",
   "id": "a218f5a8",
   "metadata": {
    "id": "FI4eUpbZ95l8",
    "papermill": {
     "duration": 0.022243,
     "end_time": "2023-04-27T13:10:53.949888",
     "exception": false,
     "start_time": "2023-04-27T13:10:53.927645",
     "status": "completed"
    },
    "tags": []
   },
   "source": [
    "## Support vector machine"
   ]
  },
  {
   "cell_type": "code",
   "execution_count": 46,
   "id": "3c025c71",
   "metadata": {
    "execution": {
     "iopub.execute_input": "2023-04-27T13:10:54.000801Z",
     "iopub.status.busy": "2023-04-27T13:10:53.999991Z",
     "iopub.status.idle": "2023-04-27T13:10:54.048639Z",
     "shell.execute_reply": "2023-04-27T13:10:54.047426Z"
    },
    "id": "lF1FLqOC-HG-",
    "papermill": {
     "duration": 0.079058,
     "end_time": "2023-04-27T13:10:54.052467",
     "exception": false,
     "start_time": "2023-04-27T13:10:53.973409",
     "status": "completed"
    },
    "tags": []
   },
   "outputs": [],
   "source": [
    "from sklearn.svm import SVC\n",
    "classifier = SVC(kernel = 'linear', random_state = 0)\n",
    "classifier.fit(X_train, Y_train)\n",
    "y_pred = classifier.predict(X_test)"
   ]
  },
  {
   "cell_type": "code",
   "execution_count": 47,
   "id": "26173295",
   "metadata": {
    "execution": {
     "iopub.execute_input": "2023-04-27T13:10:54.103889Z",
     "iopub.status.busy": "2023-04-27T13:10:54.103142Z",
     "iopub.status.idle": "2023-04-27T13:10:54.360582Z",
     "shell.execute_reply": "2023-04-27T13:10:54.359274Z"
    },
    "id": "A_R3MOJW-WZ6",
    "outputId": "72de1cff-30f2-469a-8a83-546ce77c0fee",
    "papermill": {
     "duration": 0.284972,
     "end_time": "2023-04-27T13:10:54.363353",
     "exception": false,
     "start_time": "2023-04-27T13:10:54.078381",
     "status": "completed"
    },
    "tags": []
   },
   "outputs": [
    {
     "name": "stdout",
     "output_type": "stream",
     "text": [
      "The accuracy score is  90.0 %\n",
      "[[501  19]\n",
      " [ 41  39]]\n"
     ]
    },
    {
     "data": {
      "image/png": "[encoded data removed]",
      "text/plain": [
       "<Figure size 640x480 with 2 Axes>"
      ]
     },
     "metadata": {},
     "output_type": "display_data"
    }
   ],
   "source": [
    "accuracy = metrics.accuracy_score(Y_test,Y_pred)\n",
    "confusion_matrix = metrics.confusion_matrix(Y_test,Y_pred)\n",
    "\n",
    "print('The accuracy score is ',accuracy*100,'%')\n",
    "sns.heatmap(confusion_matrix)\n",
    "print(confusion_matrix)"
   ]
  },
  {
   "cell_type": "code",
   "execution_count": 48,
   "id": "d3973a14",
   "metadata": {
    "execution": {
     "iopub.execute_input": "2023-04-27T13:10:54.412168Z",
     "iopub.status.busy": "2023-04-27T13:10:54.411298Z",
     "iopub.status.idle": "2023-04-27T13:10:54.425449Z",
     "shell.execute_reply": "2023-04-27T13:10:54.423646Z"
    },
    "id": "HkN8OfSy_Wgd",
    "outputId": "69c5cd83-1036-4f79-e790-e7b9054ba389",
    "papermill": {
     "duration": 0.042276,
     "end_time": "2023-04-27T13:10:54.428504",
     "exception": false,
     "start_time": "2023-04-27T13:10:54.386228",
     "status": "completed"
    },
    "tags": []
   },
   "outputs": [
    {
     "name": "stdout",
     "output_type": "stream",
     "text": [
      "              precision    recall  f1-score   support\n",
      "\n",
      "         0.0       0.87      1.00      0.93       520\n",
      "         1.0       0.00      0.00      0.00        80\n",
      "\n",
      "    accuracy                           0.87       600\n",
      "   macro avg       0.43      0.50      0.46       600\n",
      "weighted avg       0.75      0.87      0.80       600\n",
      "\n"
     ]
    }
   ],
   "source": [
    "print(classification_report(Y_test, y_pred))"
   ]
  },
  {
   "cell_type": "markdown",
   "id": "9ca1bc53",
   "metadata": {
    "id": "HUGfIi6u-nT3",
    "papermill": {
     "duration": 0.022909,
     "end_time": "2023-04-27T13:10:54.475044",
     "exception": false,
     "start_time": "2023-04-27T13:10:54.452135",
     "status": "completed"
    },
    "tags": []
   },
   "source": [
    "## Kernel SVM"
   ]
  },
  {
   "cell_type": "code",
   "execution_count": 49,
   "id": "bdebc433",
   "metadata": {
    "execution": {
     "iopub.execute_input": "2023-04-27T13:10:54.525527Z",
     "iopub.status.busy": "2023-04-27T13:10:54.523713Z",
     "iopub.status.idle": "2023-04-27T13:10:54.575035Z",
     "shell.execute_reply": "2023-04-27T13:10:54.573497Z"
    },
    "id": "b2MxnfiJ-zz-",
    "outputId": "7b961710-5490-4ab6-fd20-2b3ffb9f5d44",
    "papermill": {
     "duration": 0.079506,
     "end_time": "2023-04-27T13:10:54.577799",
     "exception": false,
     "start_time": "2023-04-27T13:10:54.498293",
     "status": "completed"
    },
    "tags": []
   },
   "outputs": [
    {
     "data": {
      "text/plain": [
       "SVC(random_state=0)"
      ]
     },
     "execution_count": 49,
     "metadata": {},
     "output_type": "execute_result"
    }
   ],
   "source": [
    "from sklearn.svm import SVC\n",
    "classifier = SVC(kernel = 'rbf', random_state = 0)\n",
    "classifier.fit(X_train, Y_train)"
   ]
  },
  {
   "cell_type": "code",
   "execution_count": 50,
   "id": "7624a283",
   "metadata": {
    "execution": {
     "iopub.execute_input": "2023-04-27T13:10:54.628370Z",
     "iopub.status.busy": "2023-04-27T13:10:54.627004Z",
     "iopub.status.idle": "2023-04-27T13:10:54.927052Z",
     "shell.execute_reply": "2023-04-27T13:10:54.925182Z"
    },
    "id": "kW-hliNP-2sh",
    "outputId": "28668372-c2b7-4320-e34c-a7d2e3651ed6",
    "papermill": {
     "duration": 0.329624,
     "end_time": "2023-04-27T13:10:54.930410",
     "exception": false,
     "start_time": "2023-04-27T13:10:54.600786",
     "status": "completed"
    },
    "tags": []
   },
   "outputs": [
    {
     "name": "stdout",
     "output_type": "stream",
     "text": [
      "The accuracy score is  90.0 %\n",
      "[[501  19]\n",
      " [ 41  39]]\n"
     ]
    },
    {
     "data": {
      "image/png": "[encoded data removed]",
      "text/plain": [
       "<Figure size 640x480 with 2 Axes>"
      ]
     },
     "metadata": {},
     "output_type": "display_data"
    }
   ],
   "source": [
    "y_pred = classifier.predict(X_test)\n",
    "accuracy = metrics.accuracy_score(Y_test,Y_pred)\n",
    "confusion_matrix = metrics.confusion_matrix(Y_test,Y_pred)\n",
    "\n",
    "print('The accuracy score is ',accuracy*100,'%')\n",
    "sns.heatmap(confusion_matrix)\n",
    "print(confusion_matrix)"
   ]
  },
  {
   "cell_type": "code",
   "execution_count": 51,
   "id": "93684bd5",
   "metadata": {
    "execution": {
     "iopub.execute_input": "2023-04-27T13:10:54.980769Z",
     "iopub.status.busy": "2023-04-27T13:10:54.980242Z",
     "iopub.status.idle": "2023-04-27T13:10:54.996718Z",
     "shell.execute_reply": "2023-04-27T13:10:54.994670Z"
    },
    "id": "ekv4O3l7_PeW",
    "outputId": "c21887d6-3d5e-4d88-db87-16b1d3582c9b",
    "papermill": {
     "duration": 0.045751,
     "end_time": "2023-04-27T13:10:54.999967",
     "exception": false,
     "start_time": "2023-04-27T13:10:54.954216",
     "status": "completed"
    },
    "tags": []
   },
   "outputs": [
    {
     "name": "stdout",
     "output_type": "stream",
     "text": [
      "              precision    recall  f1-score   support\n",
      "\n",
      "         0.0       0.90      0.97      0.93       520\n",
      "         1.0       0.58      0.28      0.37        80\n",
      "\n",
      "    accuracy                           0.88       600\n",
      "   macro avg       0.74      0.62      0.65       600\n",
      "weighted avg       0.85      0.88      0.86       600\n",
      "\n"
     ]
    }
   ],
   "source": [
    "print(classification_report(Y_test, y_pred))"
   ]
  },
  {
   "cell_type": "markdown",
   "id": "bc694056",
   "metadata": {
    "id": "36Obd1V2_7m_",
    "papermill": {
     "duration": 0.025535,
     "end_time": "2023-04-27T13:10:55.050663",
     "exception": false,
     "start_time": "2023-04-27T13:10:55.025128",
     "status": "completed"
    },
    "tags": []
   },
   "source": [
    "## Naive Bayes"
   ]
  },
  {
   "cell_type": "code",
   "execution_count": 52,
   "id": "117abd6f",
   "metadata": {
    "execution": {
     "iopub.execute_input": "2023-04-27T13:10:55.122390Z",
     "iopub.status.busy": "2023-04-27T13:10:55.120855Z",
     "iopub.status.idle": "2023-04-27T13:10:55.143753Z",
     "shell.execute_reply": "2023-04-27T13:10:55.142308Z"
    },
    "id": "9-59M2TEAHK_",
    "outputId": "742dea9a-fcf6-4af7-a2be-b657fb7ccbb1",
    "papermill": {
     "duration": 0.064384,
     "end_time": "2023-04-27T13:10:55.146920",
     "exception": false,
     "start_time": "2023-04-27T13:10:55.082536",
     "status": "completed"
    },
    "tags": []
   },
   "outputs": [
    {
     "data": {
      "text/plain": [
       "GaussianNB()"
      ]
     },
     "execution_count": 52,
     "metadata": {},
     "output_type": "execute_result"
    }
   ],
   "source": [
    "from sklearn.naive_bayes import GaussianNB\n",
    "classifier = GaussianNB()\n",
    "classifier.fit(X_train, Y_train)"
   ]
  },
  {
   "cell_type": "code",
   "execution_count": 53,
   "id": "653ae9ef",
   "metadata": {
    "execution": {
     "iopub.execute_input": "2023-04-27T13:10:55.205280Z",
     "iopub.status.busy": "2023-04-27T13:10:55.204379Z",
     "iopub.status.idle": "2023-04-27T13:10:55.211059Z",
     "shell.execute_reply": "2023-04-27T13:10:55.209876Z"
    },
    "id": "3J0q1ahqAJfG",
    "papermill": {
     "duration": 0.035585,
     "end_time": "2023-04-27T13:10:55.213550",
     "exception": false,
     "start_time": "2023-04-27T13:10:55.177965",
     "status": "completed"
    },
    "tags": []
   },
   "outputs": [],
   "source": [
    "y_pred = classifier.predict(X_test)"
   ]
  },
  {
   "cell_type": "code",
   "execution_count": 54,
   "id": "5638749d",
   "metadata": {
    "execution": {
     "iopub.execute_input": "2023-04-27T13:10:55.264340Z",
     "iopub.status.busy": "2023-04-27T13:10:55.263534Z",
     "iopub.status.idle": "2023-04-27T13:10:55.540262Z",
     "shell.execute_reply": "2023-04-27T13:10:55.538469Z"
    },
    "id": "OkojhFqdAOBY",
    "outputId": "b955520d-ac47-455f-afe2-5ac29ea78b37",
    "papermill": {
     "duration": 0.305613,
     "end_time": "2023-04-27T13:10:55.543588",
     "exception": false,
     "start_time": "2023-04-27T13:10:55.237975",
     "status": "completed"
    },
    "tags": []
   },
   "outputs": [
    {
     "name": "stdout",
     "output_type": "stream",
     "text": [
      "The accuracy score is  90.0 %\n",
      "[[501  19]\n",
      " [ 41  39]]\n"
     ]
    },
    {
     "data": {
      "image/png": "[encoded data removed]",
      "text/plain": [
       "<Figure size 640x480 with 2 Axes>"
      ]
     },
     "metadata": {},
     "output_type": "display_data"
    }
   ],
   "source": [
    "accuracy = metrics.accuracy_score(Y_test,Y_pred)\n",
    "confusion_matrix = metrics.confusion_matrix(Y_test,Y_pred)\n",
    "\n",
    "print('The accuracy score is ',accuracy*100,'%')\n",
    "sns.heatmap(confusion_matrix)\n",
    "print(confusion_matrix)"
   ]
  },
  {
   "cell_type": "code",
   "execution_count": 55,
   "id": "e425732e",
   "metadata": {
    "execution": {
     "iopub.execute_input": "2023-04-27T13:10:55.595153Z",
     "iopub.status.busy": "2023-04-27T13:10:55.594627Z",
     "iopub.status.idle": "2023-04-27T13:10:55.609386Z",
     "shell.execute_reply": "2023-04-27T13:10:55.607166Z"
    },
    "id": "L55v-_twBMvW",
    "outputId": "2aff4921-c255-411b-fb5d-7e87bfbb5a8f",
    "papermill": {
     "duration": 0.044155,
     "end_time": "2023-04-27T13:10:55.612472",
     "exception": false,
     "start_time": "2023-04-27T13:10:55.568317",
     "status": "completed"
    },
    "tags": []
   },
   "outputs": [
    {
     "name": "stdout",
     "output_type": "stream",
     "text": [
      "              precision    recall  f1-score   support\n",
      "\n",
      "         0.0       0.92      0.91      0.91       520\n",
      "         1.0       0.44      0.47      0.46        80\n",
      "\n",
      "    accuracy                           0.85       600\n",
      "   macro avg       0.68      0.69      0.69       600\n",
      "weighted avg       0.85      0.85      0.85       600\n",
      "\n"
     ]
    }
   ],
   "source": [
    "print(classification_report(Y_test, y_pred))"
   ]
  },
  {
   "cell_type": "markdown",
   "id": "edb9a714",
   "metadata": {
    "id": "pDah3aBkB95p",
    "papermill": {
     "duration": 0.024623,
     "end_time": "2023-04-27T13:10:55.661580",
     "exception": false,
     "start_time": "2023-04-27T13:10:55.636957",
     "status": "completed"
    },
    "tags": []
   },
   "source": [
    "## LAZYBOOST"
   ]
  },
  {
   "cell_type": "code",
   "execution_count": 56,
   "id": "7a842ea9",
   "metadata": {
    "execution": {
     "iopub.execute_input": "2023-04-27T13:10:55.714904Z",
     "iopub.status.busy": "2023-04-27T13:10:55.714429Z",
     "iopub.status.idle": "2023-04-27T13:11:09.214749Z",
     "shell.execute_reply": "2023-04-27T13:11:09.213185Z"
    },
    "id": "ZeoXHWLSCCDR",
    "outputId": "d72bf7d1-9cac-4693-b113-ad1cb6cec1f8",
    "papermill": {
     "duration": 13.530287,
     "end_time": "2023-04-27T13:11:09.218135",
     "exception": false,
     "start_time": "2023-04-27T13:10:55.687848",
     "status": "completed"
    },
    "tags": []
   },
   "outputs": [
    {
     "name": "stdout",
     "output_type": "stream",
     "text": [
      "Collecting lazypredict\r\n",
      "  Downloading lazypredict-0.2.12-py2.py3-none-any.whl (12 kB)\r\n",
      "Requirement already satisfied: joblib in /opt/conda/lib/python3.7/site-packages (from lazypredict) (1.2.0)\r\n",
      "Requirement already satisfied: tqdm in /opt/conda/lib/python3.7/site-packages (from lazypredict) (4.64.1)\r\n",
      "Requirement already satisfied: xgboost in /opt/conda/lib/python3.7/site-packages (from lazypredict) (1.6.2)\r\n",
      "Requirement already satisfied: click in /opt/conda/lib/python3.7/site-packages (from lazypredict) (8.1.3)\r\n",
      "Requirement already satisfied: lightgbm in /opt/conda/lib/python3.7/site-packages (from lazypredict) (3.3.2)\r\n",
      "Requirement already satisfied: pandas in /opt/conda/lib/python3.7/site-packages (from lazypredict) (1.3.5)\r\n",
      "Requirement already satisfied: scikit-learn in /opt/conda/lib/python3.7/site-packages (from lazypredict) (1.0.2)\r\n",
      "Requirement already satisfied: importlib-metadata in /opt/conda/lib/python3.7/site-packages (from click->lazypredict) (4.11.4)\r\n",
      "Requirement already satisfied: scipy in /opt/conda/lib/python3.7/site-packages (from lightgbm->lazypredict) (1.7.3)\r\n",
      "Requirement already satisfied: wheel in /opt/conda/lib/python3.7/site-packages (from lightgbm->lazypredict) (0.38.4)\r\n",
      "Requirement already satisfied: numpy in /opt/conda/lib/python3.7/site-packages (from lightgbm->lazypredict) (1.21.6)\r\n",
      "Requirement already satisfied: threadpoolctl>=2.0.0 in /opt/conda/lib/python3.7/site-packages (from scikit-learn->lazypredict) (3.1.0)\r\n",
      "Requirement already satisfied: python-dateutil>=2.7.3 in /opt/conda/lib/python3.7/site-packages (from pandas->lazypredict) (2.8.2)\r\n",
      "Requirement already satisfied: pytz>=2017.3 in /opt/conda/lib/python3.7/site-packages (from pandas->lazypredict) (2022.7.1)\r\n",
      "Requirement already satisfied: six>=1.5 in /opt/conda/lib/python3.7/site-packages (from python-dateutil>=2.7.3->pandas->lazypredict) (1.16.0)\r\n",
      "Requirement already satisfied: zipp>=0.5 in /opt/conda/lib/python3.7/site-packages (from importlib-metadata->click->lazypredict) (3.11.0)\r\n",
      "Requirement already satisfied: typing-extensions>=3.6.4 in /opt/conda/lib/python3.7/site-packages (from importlib-metadata->click->lazypredict) (4.4.0)\r\n",
      "Installing collected packages: lazypredict\r\n",
      "Successfully installed lazypredict-0.2.12\r\n",
      "\u001b[33mWARNING: Running pip as the 'root' user can result in broken permissions and conflicting behaviour with the system package manager. It is recommended to use a virtual environment instead: https://pip.pypa.io/warnings/venv\u001b[0m\u001b[33m\r\n",
      "\u001b[0m"
     ]
    }
   ],
   "source": [
    "!pip install lazypredict"
   ]
  },
  {
   "cell_type": "code",
   "execution_count": 57,
   "id": "af15d260",
   "metadata": {
    "execution": {
     "iopub.execute_input": "2023-04-27T13:11:09.271559Z",
     "iopub.status.busy": "2023-04-27T13:11:09.270987Z",
     "iopub.status.idle": "2023-04-27T13:11:11.683356Z",
     "shell.execute_reply": "2023-04-27T13:11:11.681714Z"
    },
    "id": "7yYCEbkXCENH",
    "papermill": {
     "duration": 2.443718,
     "end_time": "2023-04-27T13:11:11.687157",
     "exception": false,
     "start_time": "2023-04-27T13:11:09.243439",
     "status": "completed"
    },
    "tags": []
   },
   "outputs": [
    {
     "data": {
      "text/html": [
       "<style type='text/css'>\n",
       ".datatable table.frame { margin-bottom: 0; }\n",
       ".datatable table.frame thead { border-bottom: none; }\n",
       ".datatable table.frame tr.coltypes td {  color: #FFFFFF;  line-height: 6px;  padding: 0 0.5em;}\n",
       ".datatable .bool    { background: #DDDD99; }\n",
       ".datatable .object  { background: #565656; }\n",
       ".datatable .int     { background: #5D9E5D; }\n",
       ".datatable .float   { background: #4040CC; }\n",
       ".datatable .str     { background: #CC4040; }\n",
       ".datatable .time    { background: #40CC40; }\n",
       ".datatable .row_index {  background: var(--jp-border-color3);  border-right: 1px solid var(--jp-border-color0);  color: var(--jp-ui-font-color3);  font-size: 9px;}\n",
       ".datatable .frame tbody td { text-align: left; }\n",
       ".datatable .frame tr.coltypes .row_index {  background: var(--jp-border-color0);}\n",
       ".datatable th:nth-child(2) { padding-left: 12px; }\n",
       ".datatable .hellipsis {  color: var(--jp-cell-editor-border-color);}\n",
       ".datatable .vellipsis {  background: var(--jp-layout-color0);  color: var(--jp-cell-editor-border-color);}\n",
       ".datatable .na {  color: var(--jp-cell-editor-border-color);  font-size: 80%;}\n",
       ".datatable .sp {  opacity: 0.25;}\n",
       ".datatable .footer { font-size: 9px; }\n",
       ".datatable .frame_dimensions {  background: var(--jp-border-color3);  border-top: 1px solid var(--jp-border-color0);  color: var(--jp-ui-font-color3);  display: inline-block;  opacity: 0.6;  padding: 1px 10px 1px 5px;}\n",
       "</style>\n"
      ],
      "text/plain": [
       "<IPython.core.display.HTML object>"
      ]
     },
     "metadata": {},
     "output_type": "display_data"
    }
   ],
   "source": [
    "import lazypredict\n",
    "from lazypredict.Supervised import LazyClassifier\n",
    "\n",
    "import lightgbm as lgb"
   ]
  },
  {
   "cell_type": "code",
   "execution_count": 58,
   "id": "c193e42f",
   "metadata": {
    "execution": {
     "iopub.execute_input": "2023-04-27T13:11:11.743701Z",
     "iopub.status.busy": "2023-04-27T13:11:11.743023Z",
     "iopub.status.idle": "2023-04-27T13:11:15.828369Z",
     "shell.execute_reply": "2023-04-27T13:11:15.826755Z"
    },
    "id": "_y-4Pm_vCKo9",
    "outputId": "eb034a69-d939-4c3e-ffbf-67f63ae00b2b",
    "papermill": {
     "duration": 4.116975,
     "end_time": "2023-04-27T13:11:15.831072",
     "exception": false,
     "start_time": "2023-04-27T13:11:11.714097",
     "status": "completed"
    },
    "tags": []
   },
   "outputs": [
    {
     "name": "stderr",
     "output_type": "stream",
     "text": [
      " 17%|█▋        | 5/29 [00:00<00:03,  7.45it/s]"
     ]
    },
    {
     "name": "stdout",
     "output_type": "stream",
     "text": [
      "CategoricalNB model failed to execute\n",
      "Negative values in data passed to CategoricalNB (input X)\n"
     ]
    },
    {
     "name": "stderr",
     "output_type": "stream",
     "text": [
      " 66%|██████▌   | 19/29 [00:01<00:00, 12.48it/s]"
     ]
    },
    {
     "name": "stdout",
     "output_type": "stream",
     "text": [
      "NuSVC model failed to execute\n",
      "specified nu is infeasible\n"
     ]
    },
    {
     "name": "stderr",
     "output_type": "stream",
     "text": [
      " 93%|█████████▎| 27/29 [00:02<00:00, 13.27it/s]"
     ]
    },
    {
     "name": "stdout",
     "output_type": "stream",
     "text": [
      "StackingClassifier model failed to execute\n",
      "__init__() missing 1 required positional argument: 'estimators'\n"
     ]
    },
    {
     "name": "stderr",
     "output_type": "stream",
     "text": [
      "100%|██████████| 29/29 [00:04<00:00,  7.17it/s]\n"
     ]
    },
    {
     "data": {
      "text/html": [
       "<div>\n",
       "<style scoped>\n",
       "    .dataframe tbody tr th:only-of-type {\n",
       "        vertical-align: middle;\n",
       "    }\n",
       "\n",
       "    .dataframe tbody tr th {\n",
       "        vertical-align: top;\n",
       "    }\n",
       "\n",
       "    .dataframe thead th {\n",
       "        text-align: right;\n",
       "    }\n",
       "</style>\n",
       "<table border=\"1\" class=\"dataframe\">\n",
       "  <thead>\n",
       "    <tr style=\"text-align: right;\">\n",
       "      <th></th>\n",
       "      <th>Accuracy</th>\n",
       "      <th>Balanced Accuracy</th>\n",
       "      <th>ROC AUC</th>\n",
       "      <th>F1 Score</th>\n",
       "      <th>Time Taken</th>\n",
       "    </tr>\n",
       "    <tr>\n",
       "      <th>Model</th>\n",
       "      <th></th>\n",
       "      <th></th>\n",
       "      <th></th>\n",
       "      <th></th>\n",
       "      <th></th>\n",
       "    </tr>\n",
       "  </thead>\n",
       "  <tbody>\n",
       "    <tr>\n",
       "      <th>LGBMClassifier</th>\n",
       "      <td>0.90</td>\n",
       "      <td>0.75</td>\n",
       "      <td>0.75</td>\n",
       "      <td>0.90</td>\n",
       "      <td>0.92</td>\n",
       "    </tr>\n",
       "    <tr>\n",
       "      <th>XGBClassifier</th>\n",
       "      <td>0.90</td>\n",
       "      <td>0.75</td>\n",
       "      <td>0.75</td>\n",
       "      <td>0.89</td>\n",
       "      <td>0.57</td>\n",
       "    </tr>\n",
       "    <tr>\n",
       "      <th>DecisionTreeClassifier</th>\n",
       "      <td>0.87</td>\n",
       "      <td>0.74</td>\n",
       "      <td>0.74</td>\n",
       "      <td>0.87</td>\n",
       "      <td>0.03</td>\n",
       "    </tr>\n",
       "    <tr>\n",
       "      <th>RandomForestClassifier</th>\n",
       "      <td>0.90</td>\n",
       "      <td>0.74</td>\n",
       "      <td>0.74</td>\n",
       "      <td>0.89</td>\n",
       "      <td>0.38</td>\n",
       "    </tr>\n",
       "    <tr>\n",
       "      <th>BaggingClassifier</th>\n",
       "      <td>0.90</td>\n",
       "      <td>0.72</td>\n",
       "      <td>0.72</td>\n",
       "      <td>0.89</td>\n",
       "      <td>0.09</td>\n",
       "    </tr>\n",
       "    <tr>\n",
       "      <th>ExtraTreesClassifier</th>\n",
       "      <td>0.90</td>\n",
       "      <td>0.71</td>\n",
       "      <td>0.71</td>\n",
       "      <td>0.89</td>\n",
       "      <td>0.26</td>\n",
       "    </tr>\n",
       "    <tr>\n",
       "      <th>ExtraTreeClassifier</th>\n",
       "      <td>0.86</td>\n",
       "      <td>0.70</td>\n",
       "      <td>0.70</td>\n",
       "      <td>0.86</td>\n",
       "      <td>0.02</td>\n",
       "    </tr>\n",
       "    <tr>\n",
       "      <th>GaussianNB</th>\n",
       "      <td>0.85</td>\n",
       "      <td>0.69</td>\n",
       "      <td>0.69</td>\n",
       "      <td>0.85</td>\n",
       "      <td>0.02</td>\n",
       "    </tr>\n",
       "    <tr>\n",
       "      <th>QuadraticDiscriminantAnalysis</th>\n",
       "      <td>0.86</td>\n",
       "      <td>0.69</td>\n",
       "      <td>0.69</td>\n",
       "      <td>0.86</td>\n",
       "      <td>0.02</td>\n",
       "    </tr>\n",
       "    <tr>\n",
       "      <th>NearestCentroid</th>\n",
       "      <td>0.72</td>\n",
       "      <td>0.66</td>\n",
       "      <td>0.66</td>\n",
       "      <td>0.76</td>\n",
       "      <td>0.03</td>\n",
       "    </tr>\n",
       "    <tr>\n",
       "      <th>LabelPropagation</th>\n",
       "      <td>0.85</td>\n",
       "      <td>0.66</td>\n",
       "      <td>0.66</td>\n",
       "      <td>0.85</td>\n",
       "      <td>0.23</td>\n",
       "    </tr>\n",
       "    <tr>\n",
       "      <th>LabelSpreading</th>\n",
       "      <td>0.85</td>\n",
       "      <td>0.66</td>\n",
       "      <td>0.66</td>\n",
       "      <td>0.85</td>\n",
       "      <td>0.27</td>\n",
       "    </tr>\n",
       "    <tr>\n",
       "      <th>AdaBoostClassifier</th>\n",
       "      <td>0.86</td>\n",
       "      <td>0.64</td>\n",
       "      <td>0.64</td>\n",
       "      <td>0.85</td>\n",
       "      <td>0.17</td>\n",
       "    </tr>\n",
       "    <tr>\n",
       "      <th>KNeighborsClassifier</th>\n",
       "      <td>0.88</td>\n",
       "      <td>0.63</td>\n",
       "      <td>0.63</td>\n",
       "      <td>0.86</td>\n",
       "      <td>0.05</td>\n",
       "    </tr>\n",
       "    <tr>\n",
       "      <th>SVC</th>\n",
       "      <td>0.88</td>\n",
       "      <td>0.62</td>\n",
       "      <td>0.62</td>\n",
       "      <td>0.86</td>\n",
       "      <td>0.10</td>\n",
       "    </tr>\n",
       "    <tr>\n",
       "      <th>LinearDiscriminantAnalysis</th>\n",
       "      <td>0.86</td>\n",
       "      <td>0.60</td>\n",
       "      <td>0.60</td>\n",
       "      <td>0.84</td>\n",
       "      <td>0.05</td>\n",
       "    </tr>\n",
       "    <tr>\n",
       "      <th>Perceptron</th>\n",
       "      <td>0.86</td>\n",
       "      <td>0.59</td>\n",
       "      <td>0.59</td>\n",
       "      <td>0.84</td>\n",
       "      <td>0.03</td>\n",
       "    </tr>\n",
       "    <tr>\n",
       "      <th>PassiveAggressiveClassifier</th>\n",
       "      <td>0.82</td>\n",
       "      <td>0.59</td>\n",
       "      <td>0.59</td>\n",
       "      <td>0.82</td>\n",
       "      <td>0.04</td>\n",
       "    </tr>\n",
       "    <tr>\n",
       "      <th>SGDClassifier</th>\n",
       "      <td>0.85</td>\n",
       "      <td>0.56</td>\n",
       "      <td>0.56</td>\n",
       "      <td>0.83</td>\n",
       "      <td>0.05</td>\n",
       "    </tr>\n",
       "    <tr>\n",
       "      <th>LogisticRegression</th>\n",
       "      <td>0.86</td>\n",
       "      <td>0.56</td>\n",
       "      <td>0.56</td>\n",
       "      <td>0.83</td>\n",
       "      <td>0.04</td>\n",
       "    </tr>\n",
       "    <tr>\n",
       "      <th>CalibratedClassifierCV</th>\n",
       "      <td>0.86</td>\n",
       "      <td>0.55</td>\n",
       "      <td>0.55</td>\n",
       "      <td>0.83</td>\n",
       "      <td>0.35</td>\n",
       "    </tr>\n",
       "    <tr>\n",
       "      <th>LinearSVC</th>\n",
       "      <td>0.87</td>\n",
       "      <td>0.54</td>\n",
       "      <td>0.54</td>\n",
       "      <td>0.82</td>\n",
       "      <td>0.14</td>\n",
       "    </tr>\n",
       "    <tr>\n",
       "      <th>RidgeClassifier</th>\n",
       "      <td>0.87</td>\n",
       "      <td>0.53</td>\n",
       "      <td>0.53</td>\n",
       "      <td>0.82</td>\n",
       "      <td>0.04</td>\n",
       "    </tr>\n",
       "    <tr>\n",
       "      <th>RidgeClassifierCV</th>\n",
       "      <td>0.87</td>\n",
       "      <td>0.53</td>\n",
       "      <td>0.53</td>\n",
       "      <td>0.82</td>\n",
       "      <td>0.04</td>\n",
       "    </tr>\n",
       "    <tr>\n",
       "      <th>BernoulliNB</th>\n",
       "      <td>0.86</td>\n",
       "      <td>0.52</td>\n",
       "      <td>0.52</td>\n",
       "      <td>0.82</td>\n",
       "      <td>0.02</td>\n",
       "    </tr>\n",
       "    <tr>\n",
       "      <th>DummyClassifier</th>\n",
       "      <td>0.87</td>\n",
       "      <td>0.50</td>\n",
       "      <td>0.50</td>\n",
       "      <td>0.80</td>\n",
       "      <td>0.01</td>\n",
       "    </tr>\n",
       "  </tbody>\n",
       "</table>\n",
       "</div>"
      ],
      "text/plain": [
       "                               Accuracy  Balanced Accuracy  ROC AUC  F1 Score  \\\n",
       "Model                                                                           \n",
       "LGBMClassifier                     0.90               0.75     0.75      0.90   \n",
       "XGBClassifier                      0.90               0.75     0.75      0.89   \n",
       "DecisionTreeClassifier             0.87               0.74     0.74      0.87   \n",
       "RandomForestClassifier             0.90               0.74     0.74      0.89   \n",
       "BaggingClassifier                  0.90               0.72     0.72      0.89   \n",
       "ExtraTreesClassifier               0.90               0.71     0.71      0.89   \n",
       "ExtraTreeClassifier                0.86               0.70     0.70      0.86   \n",
       "GaussianNB                         0.85               0.69     0.69      0.85   \n",
       "QuadraticDiscriminantAnalysis      0.86               0.69     0.69      0.86   \n",
       "NearestCentroid                    0.72               0.66     0.66      0.76   \n",
       "LabelPropagation                   0.85               0.66     0.66      0.85   \n",
       "LabelSpreading                     0.85               0.66     0.66      0.85   \n",
       "AdaBoostClassifier                 0.86               0.64     0.64      0.85   \n",
       "KNeighborsClassifier               0.88               0.63     0.63      0.86   \n",
       "SVC                                0.88               0.62     0.62      0.86   \n",
       "LinearDiscriminantAnalysis         0.86               0.60     0.60      0.84   \n",
       "Perceptron                         0.86               0.59     0.59      0.84   \n",
       "PassiveAggressiveClassifier        0.82               0.59     0.59      0.82   \n",
       "SGDClassifier                      0.85               0.56     0.56      0.83   \n",
       "LogisticRegression                 0.86               0.56     0.56      0.83   \n",
       "CalibratedClassifierCV             0.86               0.55     0.55      0.83   \n",
       "LinearSVC                          0.87               0.54     0.54      0.82   \n",
       "RidgeClassifier                    0.87               0.53     0.53      0.82   \n",
       "RidgeClassifierCV                  0.87               0.53     0.53      0.82   \n",
       "BernoulliNB                        0.86               0.52     0.52      0.82   \n",
       "DummyClassifier                    0.87               0.50     0.50      0.80   \n",
       "\n",
       "                               Time Taken  \n",
       "Model                                      \n",
       "LGBMClassifier                       0.92  \n",
       "XGBClassifier                        0.57  \n",
       "DecisionTreeClassifier               0.03  \n",
       "RandomForestClassifier               0.38  \n",
       "BaggingClassifier                    0.09  \n",
       "ExtraTreesClassifier                 0.26  \n",
       "ExtraTreeClassifier                  0.02  \n",
       "GaussianNB                           0.02  \n",
       "QuadraticDiscriminantAnalysis        0.02  \n",
       "NearestCentroid                      0.03  \n",
       "LabelPropagation                     0.23  \n",
       "LabelSpreading                       0.27  \n",
       "AdaBoostClassifier                   0.17  \n",
       "KNeighborsClassifier                 0.05  \n",
       "SVC                                  0.10  \n",
       "LinearDiscriminantAnalysis           0.05  \n",
       "Perceptron                           0.03  \n",
       "PassiveAggressiveClassifier          0.04  \n",
       "SGDClassifier                        0.05  \n",
       "LogisticRegression                   0.04  \n",
       "CalibratedClassifierCV               0.35  \n",
       "LinearSVC                            0.14  \n",
       "RidgeClassifier                      0.04  \n",
       "RidgeClassifierCV                    0.04  \n",
       "BernoulliNB                          0.02  \n",
       "DummyClassifier                      0.01  "
      ]
     },
     "execution_count": 58,
     "metadata": {},
     "output_type": "execute_result"
    }
   ],
   "source": [
    "clf = LazyClassifier(verbose=0, ignore_warnings=False, custom_metric=None)\n",
    "models, predictions = clf.fit(X_train, X_test, Y_train, Y_test)\n",
    "model_dictionary = clf.provide_models(X_train, X_test, Y_train, Y_test)\n",
    "models"
   ]
  },
  {
   "cell_type": "code",
   "execution_count": 59,
   "id": "864eb475",
   "metadata": {
    "execution": {
     "iopub.execute_input": "2023-04-27T13:11:15.890507Z",
     "iopub.status.busy": "2023-04-27T13:11:15.890009Z",
     "iopub.status.idle": "2023-04-27T13:11:16.665019Z",
     "shell.execute_reply": "2023-04-27T13:11:16.663628Z"
    },
    "id": "hSyjLw_CCfNw",
    "outputId": "cb0229c7-346c-444f-a211-f67672f67da1",
    "papermill": {
     "duration": 0.808402,
     "end_time": "2023-04-27T13:11:16.667796",
     "exception": false,
     "start_time": "2023-04-27T13:11:15.859394",
     "status": "completed"
    },
    "tags": []
   },
   "outputs": [
    {
     "name": "stdout",
     "output_type": "stream",
     "text": [
      "[LightGBM] [Warning] Auto-choosing row-wise multi-threading, the overhead of testing was 0.001009 seconds.\n",
      "You can set `force_row_wise=true` to remove the overhead.\n",
      "And if memory is not enough, you can set `force_col_wise=true`.\n"
     ]
    },
    {
     "data": {
      "text/plain": [
       "LGBMClassifier(verbose=0)"
      ]
     },
     "execution_count": 59,
     "metadata": {},
     "output_type": "execute_result"
    }
   ],
   "source": [
    "model = lgb.LGBMClassifier(verbose=0)\n",
    "model.fit(X_train,Y_train)"
   ]
  },
  {
   "cell_type": "code",
   "execution_count": 60,
   "id": "676b6a77",
   "metadata": {
    "execution": {
     "iopub.execute_input": "2023-04-27T13:11:16.725763Z",
     "iopub.status.busy": "2023-04-27T13:11:16.724929Z",
     "iopub.status.idle": "2023-04-27T13:11:16.733811Z",
     "shell.execute_reply": "2023-04-27T13:11:16.732656Z"
    },
    "id": "-cDY7DJzCkLC",
    "papermill": {
     "duration": 0.040718,
     "end_time": "2023-04-27T13:11:16.736497",
     "exception": false,
     "start_time": "2023-04-27T13:11:16.695779",
     "status": "completed"
    },
    "tags": []
   },
   "outputs": [],
   "source": [
    "y_test_predicted = model.predict(X_test)"
   ]
  },
  {
   "cell_type": "code",
   "execution_count": 61,
   "id": "f452dacd",
   "metadata": {
    "execution": {
     "iopub.execute_input": "2023-04-27T13:11:16.795225Z",
     "iopub.status.busy": "2023-04-27T13:11:16.794377Z",
     "iopub.status.idle": "2023-04-27T13:11:17.055251Z",
     "shell.execute_reply": "2023-04-27T13:11:17.053967Z"
    },
    "id": "OZjtmD31Cmqc",
    "outputId": "ec300a98-9ab9-48c3-a39d-889b962d4392",
    "papermill": {
     "duration": 0.293635,
     "end_time": "2023-04-27T13:11:17.058047",
     "exception": false,
     "start_time": "2023-04-27T13:11:16.764412",
     "status": "completed"
    },
    "tags": []
   },
   "outputs": [
    {
     "name": "stdout",
     "output_type": "stream",
     "text": [
      "The accuracy score is  90.16666666666666 %\n",
      "[[496  24]\n",
      " [ 35  45]]\n"
     ]
    },
    {
     "data": {
      "image/png": "[encoded data removed]",
      "text/plain": [
       "<Figure size 640x480 with 2 Axes>"
      ]
     },
     "metadata": {},
     "output_type": "display_data"
    }
   ],
   "source": [
    "from sklearn import metrics\n",
    "\n",
    "accuracy = metrics.accuracy_score(Y_test,y_test_predicted)\n",
    "confusion_matrix = metrics.confusion_matrix(Y_test,y_test_predicted)\n",
    "\n",
    "print('The accuracy score is ',accuracy*100,'%')\n",
    "sns.heatmap(confusion_matrix)\n",
    "print(confusion_matrix)"
   ]
  },
  {
   "cell_type": "code",
   "execution_count": 62,
   "id": "60bad787",
   "metadata": {
    "execution": {
     "iopub.execute_input": "2023-04-27T13:11:17.142571Z",
     "iopub.status.busy": "2023-04-27T13:11:17.141967Z",
     "iopub.status.idle": "2023-04-27T13:11:17.156907Z",
     "shell.execute_reply": "2023-04-27T13:11:17.155910Z"
    },
    "id": "oV3q5LsYLTxa",
    "outputId": "48f9c0bc-2a83-4c86-da7b-39a2987ed500",
    "papermill": {
     "duration": 0.065005,
     "end_time": "2023-04-27T13:11:17.160191",
     "exception": false,
     "start_time": "2023-04-27T13:11:17.095186",
     "status": "completed"
    },
    "tags": []
   },
   "outputs": [
    {
     "name": "stdout",
     "output_type": "stream",
     "text": [
      "              precision    recall  f1-score   support\n",
      "\n",
      "         0.0       0.92      0.91      0.91       520\n",
      "         1.0       0.44      0.47      0.46        80\n",
      "\n",
      "    accuracy                           0.85       600\n",
      "   macro avg       0.68      0.69      0.69       600\n",
      "weighted avg       0.85      0.85      0.85       600\n",
      "\n"
     ]
    }
   ],
   "source": [
    "print(classification_report(Y_test, y_pred))"
   ]
  }
 ],
 "metadata": {
  "kernelspec": {
   "display_name": "Python 3",
   "language": "python",
   "name": "python3"
  },
  "language_info": {
   "codemirror_mode": {
    "name": "ipython",
    "version": 3
   },
   "file_extension": ".py",
   "mimetype": "text/x-python",
   "name": "python",
   "nbconvert_exporter": "python",
   "pygments_lexer": "ipython3",
   "version": "3.7.12"
  },
  "papermill": {
   "default_parameters": {},
   "duration": 108.22767,
   "end_time": "2023-04-27T13:11:18.629267",
   "environment_variables": {},
   "exception": null,
   "input_path": "__notebook__.ipynb",
   "output_path": "__notebook__.ipynb",
   "parameters": {},
   "start_time": "2023-04-27T13:09:30.401597",
   "version": "2.4.0"
  }
 },
 "nbformat": 4,
 "nbformat_minor": 5
}
